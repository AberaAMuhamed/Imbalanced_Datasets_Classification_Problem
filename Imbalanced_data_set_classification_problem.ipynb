{
 "cells": [
  {
   "cell_type": "markdown",
   "metadata": {},
   "source": [
    "\n",
    "<h1>Imbalanced_Data_Set_Project</h1>\n",
    "<h3>Abera A. Muhamed</h3>\n",
    "<ol>\n",
    "    <h5> Introduction</h5>\n",
    "  \n",
    "\n",
    " An organization XYZ provides several ways for its customers to make payments. While their service counselors can take payments over the phone, it is more cost-efficient for customers to make payments through their self-service channels such as online or through the automated phone system.  The objective is to use a predictive model to select people to receive a pre-emptive e-mail message designed to encourage them to pay online.\n",
    "\n",
    " The task is to build a machine learning model that predicts customers who are likely to make a service payment call in the next 5 days.\n",
    "\n",
    "\n",
    "\n",
    "\n",
    "<p>  If you have spent some time in machine learning and data science, you would have definitely come across imbalanced class distribution. This is a scenario where the number of observations belonging to one class is significantly lower than those belonging to the other classes. </p>\n",
    "     \n",
    "        \n",
    "<p> This problem is predominant in scenarios where anomaly detection is crucial like electricity pilferage, fraudulent transactions in banks, identification of rare diseases, etc. In this situation, the predictive model developed using conventional machine learning algorithms could be biased and inaccurate.    </p>\n",
    "     \n",
    "        \n",
    "<p>\n",
    "This happens because Machine Learning Algorithms are usually designed to improve accuracy by reducing the error. Thus, they do not take into account the class distribution / proportion or balance of classes. Machine Learning algorithms tend to produce unsatisfactory classifiers when faced with imbalanced datasets. For any imbalanced data set, if the event to be predicted belongs to the minority class and the event rate is less than 5%, it is usually referred to as a rare event.</p>\n",
    "     \n",
    "        \n",
    "\n",
    "   \n",
    " <h5> Dataset Description: </h5>\n",
    "The csv file contains data on customers who have had a bill due in the next 5 days and whether they made a service payment call. \n",
    "\n",
    "<p> This notebook describes various approaches for solving such class imbalance problems using various sampling techniques. We also weigh each technique for its pros and cons. Finally, I reveal an approach using which you can create a balanced class distribution and apply ensemble learning technique designed especially for this purpose.</p>\n",
    "\n",
    "</ol>"
   ]
  },
  {
   "cell_type": "markdown",
   "metadata": {},
   "source": [
    "### Challenges with standard Machine learning techniques\n",
    "The conventional model evaluation methods do not accurately measure model performance when faced with imbalanced datasets.\n",
    "\n",
    "Standard classifier algorithms like Decision Tree and Logistic Regression have a bias towards classes which have number of instances. They tend to only predict the majority class data. The features of the minority class are treated as noise and are often ignored. Thus, there is a high probability of misclassification of the minority class as compared to the majority class.\n",
    "\n",
    "Evaluation of a classification algorithm performance is measured by the Confusion Matrix which contains information about the actual and the predicted class. However, while working in an imbalanced domain accuracy is not an appropriate measure to evaluate model performance. For example,a classifier which achieves an accuracy of 96 % with an event rate of 4 % is not accurate, if it classifies all instances as the majority class. And eliminates the 4 % minority class observations as noise."
   ]
  },
  {
   "cell_type": "markdown",
   "metadata": {},
   "source": [
    "### Examples of imbalanced data\n",
    "Apart from fraudulent transactions, other examples of a common business problem with imbalanced dataset are:\n",
    "\n",
    "- Datasets to identify customer churn where a vast majority of customers will continue using the service. Specifically, Telecommunication companies where Churn Rate is lower than 2 %.\n",
    "- Data sets to identify rare diseases in medical diagnostics etc.\n",
    "- Natural Disaster like Earthquakes"
   ]
  },
  {
   "cell_type": "code",
   "execution_count": null,
   "metadata": {},
   "outputs": [],
   "source": [
    "# import the necessary packages\n",
    "\n",
    "import numpy as np\n",
    "import pandas as pd\n",
    "import matplotlib.pyplot as plt\n",
    "import matplotlib.gridspec as gridspec\n",
    "import seaborn as sns\n",
    "\n",
    "from sklearn.linear_model import LogisticRegression\n",
    "from sklearn.neighbors import KNeighborsClassifier\n",
    "from sklearn.ensemble import RandomForestClassifier\n",
    "from sklearn.svm import SVC\n",
    "from sklearn.naive_bayes import GaussianNB\n",
    "from sklearn.ensemble import GradientBoostingClassifier\n",
    "from xgboost import XGBClassifier\n",
    "from sklearn.pipeline import Pipeline\n",
    "from sklearn.model_selection import GridSearchCV\n",
    "\n",
    "from sklearn.preprocessing import StandardScaler, RobustScaler, LabelEncoder, MinMaxScaler\n",
    "from sklearn.model_selection import train_test_split, StratifiedKFold\n",
    "from collections import Counter\n",
    "\n",
    "from sklearn.utils import resample\n",
    "from imblearn.under_sampling import RandomUnderSampler\n",
    "from imblearn.pipeline import Pipeline\n",
    "from imblearn.over_sampling import SMOTE\n",
    "\n",
    "from sklearn.metrics import confusion_matrix, classification_report, roc_curve, accuracy_score, \\\n",
    "precision_score, recall_score, roc_auc_score, f1_score, precision_recall_curve, auc, log_loss \n",
    "\n",
    "import statsmodels.api as sm\n",
    "from statsmodels.stats.outliers_influence import variance_inflation_factor\n",
    "\n",
    "import pickle\n",
    "\n",
    "import warnings\n",
    "warnings.filterwarnings(\"ignore\")\n",
    "%matplotlib inline\n",
    "sns.set(style='darkgrid',palette='Set2')"
   ]
  },
  {
   "cell_type": "markdown",
   "metadata": {},
   "source": [
    "### Loading Dataset"
   ]
  },
  {
   "cell_type": "code",
   "execution_count": null,
   "metadata": {},
   "outputs": [],
   "source": [
    "data = pd.read_csv('xyz.csv')\n",
    "data.head() #Displaying the first five events"
   ]
  },
  {
   "cell_type": "code",
   "execution_count": 3,
   "metadata": {},
   "outputs": [
    {
     "data": {
      "text/plain": [
       "Index(['DATE_FOR', 'RTD_ST_CD', 'CustomerSegment', 'Tenure', 'Age',\n",
       "       'MART_STATUS', 'GENDER', 'CHANNEL1_6M', 'CHANNEL2_6M', 'CHANNEL3_6M',\n",
       "       'CHANNEL4_6M', 'CHANNEL5_6M', 'METHOD1_6M', 'RECENT_PAYMENT',\n",
       "       'PAYMENTS_6M', 'CHANNEL1_3M', 'CHANNEL2_3M', 'CHANNEL3_3M',\n",
       "       'CHANNEL4_3M', 'CHANNEL5_3M', 'METHOD1_3M', 'PAYMENTS_3M', 'NOT_DI_3M',\n",
       "       'NOT_DI_6M', 'EVENT1_30_FLAG', 'EVENT2_90_SUM', 'LOGINS',\n",
       "       'POLICYPURCHASECHANNEL', 'Call_Flag'],\n",
       "      dtype='object')"
      ]
     },
     "execution_count": 3,
     "metadata": {},
     "output_type": "execute_result"
    }
   ],
   "source": [
    "# Displaying the column names of the dataframe\n",
    "data.columns"
   ]
  },
  {
   "cell_type": "markdown",
   "metadata": {},
   "source": [
    "<p>Our data set has 29 input features. Fore example, two features that  are <strong>Tenure</strong>, which refers years of tenure with company, and <strong>Age</strong>, which tell us age of policyholder. The target variable is Call_Flag which receive <strong>1</strong> if there was a service payment   and <strong>0</strong> if there was not a service payment </p>"
   ]
  },
  {
   "cell_type": "markdown",
   "metadata": {},
   "source": [
    "Data shape"
   ]
  },
  {
   "cell_type": "code",
   "execution_count": 4,
   "metadata": {},
   "outputs": [
    {
     "name": "stdout",
     "output_type": "stream",
     "text": [
      "There are 130086 rows and 29 columns.\n",
      "Data Shape: (130086, 29) \n",
      "\n"
     ]
    }
   ],
   "source": [
    "# display the number of  rows and columns of the dataframe\n",
    "print(f\"There are {data.shape[0]} rows and {data.shape[1]} columns.\")\n",
    " #or\n",
    "print(\"Data Shape:\", data.shape, \"\\n\")"
   ]
  },
  {
   "cell_type": "markdown",
   "metadata": {},
   "source": [
    "Data types"
   ]
  },
  {
   "cell_type": "code",
   "execution_count": 5,
   "metadata": {},
   "outputs": [
    {
     "data": {
      "text/plain": [
       "DATE_FOR                  object\n",
       "RTD_ST_CD                 object\n",
       "CustomerSegment           object\n",
       "Tenure                   float64\n",
       "Age                      float64\n",
       "MART_STATUS               object\n",
       "GENDER                    object\n",
       "CHANNEL1_6M              float64\n",
       "CHANNEL2_6M              float64\n",
       "CHANNEL3_6M              float64\n",
       "CHANNEL4_6M              float64\n",
       "CHANNEL5_6M              float64\n",
       "METHOD1_6M               float64\n",
       "RECENT_PAYMENT           float64\n",
       "PAYMENTS_6M              float64\n",
       "CHANNEL1_3M                int64\n",
       "CHANNEL2_3M                int64\n",
       "CHANNEL3_3M                int64\n",
       "CHANNEL4_3M                int64\n",
       "CHANNEL5_3M                int64\n",
       "METHOD1_3M                 int64\n",
       "PAYMENTS_3M                int64\n",
       "NOT_DI_3M                  int64\n",
       "NOT_DI_6M                  int64\n",
       "EVENT1_30_FLAG             int64\n",
       "EVENT2_90_SUM              int64\n",
       "LOGINS                     int64\n",
       "POLICYPURCHASECHANNEL      int64\n",
       "Call_Flag                  int64\n",
       "dtype: object"
      ]
     },
     "execution_count": 5,
     "metadata": {},
     "output_type": "execute_result"
    }
   ],
   "source": [
    "data.dtypes"
   ]
  },
  {
   "cell_type": "code",
   "execution_count": 6,
   "metadata": {},
   "outputs": [
    {
     "name": "stdout",
     "output_type": "stream",
     "text": [
      "<class 'pandas.core.frame.DataFrame'>\n",
      "RangeIndex: 130086 entries, 0 to 130085\n",
      "Data columns (total 29 columns):\n",
      " #   Column                 Non-Null Count   Dtype  \n",
      "---  ------                 --------------   -----  \n",
      " 0   DATE_FOR               130086 non-null  object \n",
      " 1   RTD_ST_CD              130086 non-null  object \n",
      " 2   CustomerSegment        130086 non-null  object \n",
      " 3   Tenure                 130086 non-null  float64\n",
      " 4   Age                    130086 non-null  float64\n",
      " 5   MART_STATUS            130086 non-null  object \n",
      " 6   GENDER                 130086 non-null  object \n",
      " 7   CHANNEL1_6M            129277 non-null  float64\n",
      " 8   CHANNEL2_6M            129277 non-null  float64\n",
      " 9   CHANNEL3_6M            129277 non-null  float64\n",
      " 10  CHANNEL4_6M            129277 non-null  float64\n",
      " 11  CHANNEL5_6M            129277 non-null  float64\n",
      " 12  METHOD1_6M             129277 non-null  float64\n",
      " 13  RECENT_PAYMENT         129277 non-null  float64\n",
      " 14  PAYMENTS_6M            129277 non-null  float64\n",
      " 15  CHANNEL1_3M            130086 non-null  int64  \n",
      " 16  CHANNEL2_3M            130086 non-null  int64  \n",
      " 17  CHANNEL3_3M            130086 non-null  int64  \n",
      " 18  CHANNEL4_3M            130086 non-null  int64  \n",
      " 19  CHANNEL5_3M            130086 non-null  int64  \n",
      " 20  METHOD1_3M             130086 non-null  int64  \n",
      " 21  PAYMENTS_3M            130086 non-null  int64  \n",
      " 22  NOT_DI_3M              130086 non-null  int64  \n",
      " 23  NOT_DI_6M              130086 non-null  int64  \n",
      " 24  EVENT1_30_FLAG         130086 non-null  int64  \n",
      " 25  EVENT2_90_SUM          130086 non-null  int64  \n",
      " 26  LOGINS                 130086 non-null  int64  \n",
      " 27  POLICYPURCHASECHANNEL  130086 non-null  int64  \n",
      " 28  Call_Flag              130086 non-null  int64  \n",
      "dtypes: float64(10), int64(14), object(5)\n",
      "memory usage: 28.8+ MB\n"
     ]
    }
   ],
   "source": [
    "data.info()"
   ]
  },
  {
   "cell_type": "markdown",
   "metadata": {},
   "source": [
    "<p> We can observe a date variable, categorical variable, and numeric variables with different scales.</p>"
   ]
  },
  {
   "cell_type": "markdown",
   "metadata": {},
   "source": [
    "##### Unique values in the data"
   ]
  },
  {
   "cell_type": "code",
   "execution_count": 7,
   "metadata": {},
   "outputs": [
    {
     "name": "stdout",
     "output_type": "stream",
     "text": [
      "8 unique values of DATE_FOR ['5/19/2014' '5/17/2014' '5/15/2014' '5/16/2014' '5/20/2014' '5/14/2014'\n",
      " '5/13/2014' '5/18/2014'] \n",
      "\n",
      "51 unique values of RTD_ST_CD ['ST_S0' 'ST_S1' 'ST_S2' 'ST_S3' 'ST_S4' 'ST_S5' 'ST_S6' 'ST_S7' 'ST_S8'\n",
      " 'ST_S9' 'ST_S10' 'ST_S11' 'ST_S12' 'ST_S13' 'ST_S14' 'ST_S15' 'ST_S16'\n",
      " 'ST_S17' 'ST_S18' 'ST_S19' 'ST_S20' 'ST_S21' 'ST_S22' 'ST_S23' 'ST_S24'\n",
      " 'ST_S25' 'ST_S26' 'ST_S27' 'ST_S28' 'ST_S29' 'ST_S30' 'ST_S31' 'ST_S32'\n",
      " 'ST_S33' 'ST_S34' 'ST_S35' 'ST_S36' 'ST_S37' 'ST_S38' 'ST_S39' 'ST_S40'\n",
      " 'ST_S41' 'ST_S42' 'ST_S43' 'ST_S44' 'ST_S45' 'ST_S46' 'ST_S47' 'ST_S48'\n",
      " 'ST_S49' 'ST_S50'] \n",
      "\n",
      "4 unique values of CustomerSegment ['1' '3' '2' 'NONE'] \n",
      "\n",
      "10228 unique values of Tenure [16.175222 15.931554 15.937029 ...  0.049281  0.054757  0.046543] \n",
      "\n",
      "22347 unique values of Age [78.403833 70.989733 87.578371 ... 91.895962 22.099932 21.489391] \n",
      "\n",
      "5 unique values of MART_STATUS ['MS_S0' 'MS_S1' 'MS_S2' 'MS_S3' 'MS_S4'] \n",
      "\n",
      "2 unique values of GENDER ['F' 'M'] \n",
      "\n",
      "14 unique values of CHANNEL1_6M [ 0.  6.  1.  2.  5. nan  3.  7.  4.  9.  8. 11. 10. 12.] \n",
      "\n",
      "18 unique values of CHANNEL2_6M [ 0.  6.  4.  2.  5.  3.  1. nan  8.  7. 12. 10.  9. 23. 11. 53. 13. 17.] \n",
      "\n",
      "15 unique values of CHANNEL3_6M [ 1.  0. 10.  6.  3.  5.  4.  7.  2. nan  9.  8. 26. 12. 11.] \n",
      "\n",
      "19 unique values of CHANNEL4_6M [ 0.  1.  4.  2.  6.  5.  3. nan  7. 12.  8. 10.  9. 14. 15. 18. 11. 13.\n",
      " 17.] \n",
      "\n",
      "25 unique values of CHANNEL5_6M [ 5.  0.  6.  4.  3.  7.  1.  2. nan 12.  8. 17. 13. 14.  9. 11. 10. 23.\n",
      " 24. 18. 15. 29. 25. 26. 16.] \n",
      "\n",
      "26 unique values of METHOD1_6M [ 0.  6.  4.  1.  2.  5.  3.  7. nan  8. 12. 16.  9. 10. 11. 14. 15. 17.\n",
      " 13. 24. 18. 20. 19. 53. 21. 23.] \n",
      "\n",
      "3 unique values of RECENT_PAYMENT [ 0.  1. nan] \n",
      "\n",
      "30 unique values of PAYMENTS_6M [ 6. 10.  1.  4.  5.  2.  7.  3.  8. nan 12. 14. 11.  9. 18. 13. 15. 16.\n",
      " 23. 26. 21. 22. 17. 33. 29. 24. 20. 53. 27. 19.] \n",
      "\n",
      "7 unique values of CHANNEL1_3M [0 3 2 1 5 4 6] \n",
      "\n",
      "11 unique values of CHANNEL2_3M [ 0  3  1  2  5  4  6 11  8 36  7] \n",
      "\n",
      "9 unique values of CHANNEL3_3M [ 1  0  6  3  2  4  5 16  7] \n",
      "\n",
      "10 unique values of CHANNEL4_3M [ 0  2  1  3  4  6  5  8 10  7] \n",
      "\n",
      "16 unique values of CHANNEL5_3M [ 2  0  3  1  4  6  5  8  7 13  9 10 11 16 12 14] \n",
      "\n",
      "16 unique values of METHOD1_3M [ 0  3  1  2  4  5  6  9  8  7 14 10 12 36 11 13] \n",
      "\n",
      "20 unique values of PAYMENTS_3M [ 3  6  0  1  4  2  5  8  7  9 13 16 11 10 21 17 12 36 18 14] \n",
      "\n",
      "2 unique values of NOT_DI_3M [0 1] \n",
      "\n",
      "2 unique values of NOT_DI_6M [0 1] \n",
      "\n",
      "1 unique values of EVENT1_30_FLAG [0] \n",
      "\n",
      "5 unique values of EVENT2_90_SUM [0 2 1 3 4] \n",
      "\n",
      "45 unique values of LOGINS [ 0  1  2  4  3  6  5  7 17 23  8 13 10 22 16  9 15 14 11 18 25 38 12 35\n",
      " 20 36 40 19 26 27 29 32 24 41 31 42 30 28 37 21 34 44 45 33 43] \n",
      "\n",
      "2 unique values of POLICYPURCHASECHANNEL [0 1] \n",
      "\n",
      "2 unique values of Call_Flag [0 1] \n",
      "\n"
     ]
    }
   ],
   "source": [
    "#See the unique values in the data\n",
    "for columnname in data:\n",
    "    print(data[columnname].unique().shape[0], \"unique values of\", columnname, data[columnname].unique(), \"\\n\")"
   ]
  },
  {
   "cell_type": "markdown",
   "metadata": {},
   "source": [
    "<p> This shows there is only one value of 'EVENT1_30_FLAG' which is 0.  Because, we can see that 100% of the counts belongs to the value \"0\". This is called \"redundant, constant-value feature\", which have no predictive power. So, we can remove this column. The \"DATE_FOR\" is not relevant for our purpose, so we will drop it too.</p>"
   ]
  },
  {
   "cell_type": "code",
   "execution_count": 8,
   "metadata": {},
   "outputs": [],
   "source": [
    "# Drop the unnecessary features 'DATE_FOR' and 'EVENT1_30_FLAG'\n",
    "data = data.drop(['DATE_FOR', 'EVENT1_30_FLAG'], axis=1)"
   ]
  },
  {
   "cell_type": "markdown",
   "metadata": {},
   "source": [
    "#### Missing data"
   ]
  },
  {
   "cell_type": "code",
   "execution_count": 9,
   "metadata": {},
   "outputs": [
    {
     "data": {
      "text/plain": [
       "RTD_ST_CD                  0\n",
       "CustomerSegment            0\n",
       "Tenure                     0\n",
       "Age                        0\n",
       "MART_STATUS                0\n",
       "GENDER                     0\n",
       "CHANNEL1_6M              809\n",
       "CHANNEL2_6M              809\n",
       "CHANNEL3_6M              809\n",
       "CHANNEL4_6M              809\n",
       "CHANNEL5_6M              809\n",
       "METHOD1_6M               809\n",
       "RECENT_PAYMENT           809\n",
       "PAYMENTS_6M              809\n",
       "CHANNEL1_3M                0\n",
       "CHANNEL2_3M                0\n",
       "CHANNEL3_3M                0\n",
       "CHANNEL4_3M                0\n",
       "CHANNEL5_3M                0\n",
       "METHOD1_3M                 0\n",
       "PAYMENTS_3M                0\n",
       "NOT_DI_3M                  0\n",
       "NOT_DI_6M                  0\n",
       "EVENT2_90_SUM              0\n",
       "LOGINS                     0\n",
       "POLICYPURCHASECHANNEL      0\n",
       "Call_Flag                  0\n",
       "dtype: int64"
      ]
     },
     "execution_count": 9,
     "metadata": {},
     "output_type": "execute_result"
    }
   ],
   "source": [
    "data.isnull().sum() #number of missing values"
   ]
  },
  {
   "cell_type": "markdown",
   "metadata": {},
   "source": [
    "<p>There are 809 null values in our data set. So, we do  need the step to replace null values or remove. </p>"
   ]
  },
  {
   "cell_type": "markdown",
   "metadata": {},
   "source": [
    "## Exploratory Data Analysis (EDA)\n",
    "\n",
    "#### Summary Statistics"
   ]
  },
  {
   "cell_type": "code",
   "execution_count": 10,
   "metadata": {},
   "outputs": [
    {
     "data": {
      "text/html": [
       "<div>\n",
       "<style scoped>\n",
       "    .dataframe tbody tr th:only-of-type {\n",
       "        vertical-align: middle;\n",
       "    }\n",
       "\n",
       "    .dataframe tbody tr th {\n",
       "        vertical-align: top;\n",
       "    }\n",
       "\n",
       "    .dataframe thead th {\n",
       "        text-align: right;\n",
       "    }\n",
       "</style>\n",
       "<table border=\"1\" class=\"dataframe\">\n",
       "  <thead>\n",
       "    <tr style=\"text-align: right;\">\n",
       "      <th></th>\n",
       "      <th>Tenure</th>\n",
       "      <th>Age</th>\n",
       "      <th>CHANNEL1_6M</th>\n",
       "      <th>CHANNEL2_6M</th>\n",
       "      <th>CHANNEL3_6M</th>\n",
       "      <th>CHANNEL4_6M</th>\n",
       "      <th>CHANNEL5_6M</th>\n",
       "      <th>METHOD1_6M</th>\n",
       "      <th>RECENT_PAYMENT</th>\n",
       "      <th>PAYMENTS_6M</th>\n",
       "      <th>...</th>\n",
       "      <th>CHANNEL4_3M</th>\n",
       "      <th>CHANNEL5_3M</th>\n",
       "      <th>METHOD1_3M</th>\n",
       "      <th>PAYMENTS_3M</th>\n",
       "      <th>NOT_DI_3M</th>\n",
       "      <th>NOT_DI_6M</th>\n",
       "      <th>EVENT2_90_SUM</th>\n",
       "      <th>LOGINS</th>\n",
       "      <th>POLICYPURCHASECHANNEL</th>\n",
       "      <th>Call_Flag</th>\n",
       "    </tr>\n",
       "  </thead>\n",
       "  <tbody>\n",
       "    <tr>\n",
       "      <th>count</th>\n",
       "      <td>130086.000000</td>\n",
       "      <td>130086.000000</td>\n",
       "      <td>129277.000000</td>\n",
       "      <td>129277.000000</td>\n",
       "      <td>129277.000000</td>\n",
       "      <td>129277.000000</td>\n",
       "      <td>129277.000000</td>\n",
       "      <td>129277.000000</td>\n",
       "      <td>129277.000000</td>\n",
       "      <td>129277.000000</td>\n",
       "      <td>...</td>\n",
       "      <td>130086.000000</td>\n",
       "      <td>130086.000000</td>\n",
       "      <td>130086.000000</td>\n",
       "      <td>130086.00000</td>\n",
       "      <td>130086.000000</td>\n",
       "      <td>130086.000000</td>\n",
       "      <td>130086.000000</td>\n",
       "      <td>130086.000000</td>\n",
       "      <td>130086.000000</td>\n",
       "      <td>130086.000000</td>\n",
       "    </tr>\n",
       "    <tr>\n",
       "      <th>mean</th>\n",
       "      <td>8.583048</td>\n",
       "      <td>48.842201</td>\n",
       "      <td>0.261810</td>\n",
       "      <td>0.948467</td>\n",
       "      <td>0.811652</td>\n",
       "      <td>0.401216</td>\n",
       "      <td>0.569823</td>\n",
       "      <td>1.834425</td>\n",
       "      <td>0.105680</td>\n",
       "      <td>4.848333</td>\n",
       "      <td>...</td>\n",
       "      <td>0.196655</td>\n",
       "      <td>0.283559</td>\n",
       "      <td>0.908806</td>\n",
       "      <td>2.41205</td>\n",
       "      <td>0.055671</td>\n",
       "      <td>0.080009</td>\n",
       "      <td>0.193349</td>\n",
       "      <td>0.948326</td>\n",
       "      <td>0.130675</td>\n",
       "      <td>0.036622</td>\n",
       "    </tr>\n",
       "    <tr>\n",
       "      <th>std</th>\n",
       "      <td>7.297112</td>\n",
       "      <td>14.038089</td>\n",
       "      <td>1.092346</td>\n",
       "      <td>1.880123</td>\n",
       "      <td>1.824188</td>\n",
       "      <td>1.065413</td>\n",
       "      <td>1.628655</td>\n",
       "      <td>2.596754</td>\n",
       "      <td>0.307429</td>\n",
       "      <td>2.027548</td>\n",
       "      <td>...</td>\n",
       "      <td>0.606591</td>\n",
       "      <td>0.847804</td>\n",
       "      <td>1.386168</td>\n",
       "      <td>1.22286</td>\n",
       "      <td>0.229286</td>\n",
       "      <td>0.271308</td>\n",
       "      <td>0.509199</td>\n",
       "      <td>2.143749</td>\n",
       "      <td>0.337046</td>\n",
       "      <td>0.187832</td>\n",
       "    </tr>\n",
       "    <tr>\n",
       "      <th>min</th>\n",
       "      <td>0.032854</td>\n",
       "      <td>16.689938</td>\n",
       "      <td>0.000000</td>\n",
       "      <td>0.000000</td>\n",
       "      <td>0.000000</td>\n",
       "      <td>0.000000</td>\n",
       "      <td>0.000000</td>\n",
       "      <td>0.000000</td>\n",
       "      <td>0.000000</td>\n",
       "      <td>1.000000</td>\n",
       "      <td>...</td>\n",
       "      <td>0.000000</td>\n",
       "      <td>0.000000</td>\n",
       "      <td>0.000000</td>\n",
       "      <td>0.00000</td>\n",
       "      <td>0.000000</td>\n",
       "      <td>0.000000</td>\n",
       "      <td>0.000000</td>\n",
       "      <td>0.000000</td>\n",
       "      <td>0.000000</td>\n",
       "      <td>0.000000</td>\n",
       "    </tr>\n",
       "    <tr>\n",
       "      <th>25%</th>\n",
       "      <td>3.249829</td>\n",
       "      <td>37.878166</td>\n",
       "      <td>0.000000</td>\n",
       "      <td>0.000000</td>\n",
       "      <td>0.000000</td>\n",
       "      <td>0.000000</td>\n",
       "      <td>0.000000</td>\n",
       "      <td>0.000000</td>\n",
       "      <td>0.000000</td>\n",
       "      <td>4.000000</td>\n",
       "      <td>...</td>\n",
       "      <td>0.000000</td>\n",
       "      <td>0.000000</td>\n",
       "      <td>0.000000</td>\n",
       "      <td>2.00000</td>\n",
       "      <td>0.000000</td>\n",
       "      <td>0.000000</td>\n",
       "      <td>0.000000</td>\n",
       "      <td>0.000000</td>\n",
       "      <td>0.000000</td>\n",
       "      <td>0.000000</td>\n",
       "    </tr>\n",
       "    <tr>\n",
       "      <th>50%</th>\n",
       "      <td>7.006160</td>\n",
       "      <td>49.147159</td>\n",
       "      <td>0.000000</td>\n",
       "      <td>0.000000</td>\n",
       "      <td>0.000000</td>\n",
       "      <td>0.000000</td>\n",
       "      <td>0.000000</td>\n",
       "      <td>0.000000</td>\n",
       "      <td>0.000000</td>\n",
       "      <td>6.000000</td>\n",
       "      <td>...</td>\n",
       "      <td>0.000000</td>\n",
       "      <td>0.000000</td>\n",
       "      <td>0.000000</td>\n",
       "      <td>3.00000</td>\n",
       "      <td>0.000000</td>\n",
       "      <td>0.000000</td>\n",
       "      <td>0.000000</td>\n",
       "      <td>0.000000</td>\n",
       "      <td>0.000000</td>\n",
       "      <td>0.000000</td>\n",
       "    </tr>\n",
       "    <tr>\n",
       "      <th>75%</th>\n",
       "      <td>11.610540</td>\n",
       "      <td>58.858316</td>\n",
       "      <td>0.000000</td>\n",
       "      <td>1.000000</td>\n",
       "      <td>0.000000</td>\n",
       "      <td>0.000000</td>\n",
       "      <td>0.000000</td>\n",
       "      <td>4.000000</td>\n",
       "      <td>0.000000</td>\n",
       "      <td>6.000000</td>\n",
       "      <td>...</td>\n",
       "      <td>0.000000</td>\n",
       "      <td>0.000000</td>\n",
       "      <td>2.000000</td>\n",
       "      <td>3.00000</td>\n",
       "      <td>0.000000</td>\n",
       "      <td>0.000000</td>\n",
       "      <td>0.000000</td>\n",
       "      <td>1.000000</td>\n",
       "      <td>0.000000</td>\n",
       "      <td>0.000000</td>\n",
       "    </tr>\n",
       "    <tr>\n",
       "      <th>max</th>\n",
       "      <td>63.091034</td>\n",
       "      <td>99.348392</td>\n",
       "      <td>12.000000</td>\n",
       "      <td>53.000000</td>\n",
       "      <td>26.000000</td>\n",
       "      <td>18.000000</td>\n",
       "      <td>29.000000</td>\n",
       "      <td>53.000000</td>\n",
       "      <td>1.000000</td>\n",
       "      <td>53.000000</td>\n",
       "      <td>...</td>\n",
       "      <td>10.000000</td>\n",
       "      <td>16.000000</td>\n",
       "      <td>36.000000</td>\n",
       "      <td>36.00000</td>\n",
       "      <td>1.000000</td>\n",
       "      <td>1.000000</td>\n",
       "      <td>4.000000</td>\n",
       "      <td>45.000000</td>\n",
       "      <td>1.000000</td>\n",
       "      <td>1.000000</td>\n",
       "    </tr>\n",
       "  </tbody>\n",
       "</table>\n",
       "<p>8 rows × 23 columns</p>\n",
       "</div>"
      ],
      "text/plain": [
       "              Tenure            Age    CHANNEL1_6M    CHANNEL2_6M  \\\n",
       "count  130086.000000  130086.000000  129277.000000  129277.000000   \n",
       "mean        8.583048      48.842201       0.261810       0.948467   \n",
       "std         7.297112      14.038089       1.092346       1.880123   \n",
       "min         0.032854      16.689938       0.000000       0.000000   \n",
       "25%         3.249829      37.878166       0.000000       0.000000   \n",
       "50%         7.006160      49.147159       0.000000       0.000000   \n",
       "75%        11.610540      58.858316       0.000000       1.000000   \n",
       "max        63.091034      99.348392      12.000000      53.000000   \n",
       "\n",
       "         CHANNEL3_6M    CHANNEL4_6M    CHANNEL5_6M     METHOD1_6M  \\\n",
       "count  129277.000000  129277.000000  129277.000000  129277.000000   \n",
       "mean        0.811652       0.401216       0.569823       1.834425   \n",
       "std         1.824188       1.065413       1.628655       2.596754   \n",
       "min         0.000000       0.000000       0.000000       0.000000   \n",
       "25%         0.000000       0.000000       0.000000       0.000000   \n",
       "50%         0.000000       0.000000       0.000000       0.000000   \n",
       "75%         0.000000       0.000000       0.000000       4.000000   \n",
       "max        26.000000      18.000000      29.000000      53.000000   \n",
       "\n",
       "       RECENT_PAYMENT    PAYMENTS_6M  ...    CHANNEL4_3M    CHANNEL5_3M  \\\n",
       "count   129277.000000  129277.000000  ...  130086.000000  130086.000000   \n",
       "mean         0.105680       4.848333  ...       0.196655       0.283559   \n",
       "std          0.307429       2.027548  ...       0.606591       0.847804   \n",
       "min          0.000000       1.000000  ...       0.000000       0.000000   \n",
       "25%          0.000000       4.000000  ...       0.000000       0.000000   \n",
       "50%          0.000000       6.000000  ...       0.000000       0.000000   \n",
       "75%          0.000000       6.000000  ...       0.000000       0.000000   \n",
       "max          1.000000      53.000000  ...      10.000000      16.000000   \n",
       "\n",
       "          METHOD1_3M   PAYMENTS_3M      NOT_DI_3M      NOT_DI_6M  \\\n",
       "count  130086.000000  130086.00000  130086.000000  130086.000000   \n",
       "mean        0.908806       2.41205       0.055671       0.080009   \n",
       "std         1.386168       1.22286       0.229286       0.271308   \n",
       "min         0.000000       0.00000       0.000000       0.000000   \n",
       "25%         0.000000       2.00000       0.000000       0.000000   \n",
       "50%         0.000000       3.00000       0.000000       0.000000   \n",
       "75%         2.000000       3.00000       0.000000       0.000000   \n",
       "max        36.000000      36.00000       1.000000       1.000000   \n",
       "\n",
       "       EVENT2_90_SUM         LOGINS  POLICYPURCHASECHANNEL      Call_Flag  \n",
       "count  130086.000000  130086.000000          130086.000000  130086.000000  \n",
       "mean        0.193349       0.948326               0.130675       0.036622  \n",
       "std         0.509199       2.143749               0.337046       0.187832  \n",
       "min         0.000000       0.000000               0.000000       0.000000  \n",
       "25%         0.000000       0.000000               0.000000       0.000000  \n",
       "50%         0.000000       0.000000               0.000000       0.000000  \n",
       "75%         0.000000       1.000000               0.000000       0.000000  \n",
       "max         4.000000      45.000000               1.000000       1.000000  \n",
       "\n",
       "[8 rows x 23 columns]"
      ]
     },
     "execution_count": 10,
     "metadata": {},
     "output_type": "execute_result"
    }
   ],
   "source": [
    "\n",
    "data.describe()"
   ]
  },
  {
   "cell_type": "code",
   "execution_count": 11,
   "metadata": {},
   "outputs": [
    {
     "data": {
      "image/png": "[encoded data removed]",
      "text/plain": [
       "<Figure size 432x288 with 1 Axes>"
      ]
     },
     "metadata": {},
     "output_type": "display_data"
    }
   ],
   "source": [
    "# Visualizing the 'CustomerSegment' variable\n",
    "ax = sns.countplot(x=\"CustomerSegment\", data=data)\n",
    "#data['CustomerSegment']"
   ]
  },
  {
   "cell_type": "markdown",
   "metadata": {},
   "source": [
    "It is noted that the 'CustomerSegment' variable doesn't show any missing value. We regard the \"None\" value as missing value. In fact, we can observe the missing value by transforming this variable to numeric."
   ]
  },
  {
   "cell_type": "code",
   "execution_count": 12,
   "metadata": {},
   "outputs": [
    {
     "data": {
      "text/plain": [
       "3702"
      ]
     },
     "execution_count": 12,
     "metadata": {},
     "output_type": "execute_result"
    }
   ],
   "source": [
    "# Change data type to numeric so that we can detect the missing values.\n",
    "data['CustomerSegment'] = data['CustomerSegment'].apply(pd.to_numeric, errors='coerce')\n",
    "data['CustomerSegment'] = data['CustomerSegment'].astype('category')\n",
    "data['CustomerSegment'].isnull().sum()"
   ]
  },
  {
   "cell_type": "code",
   "execution_count": 13,
   "metadata": {},
   "outputs": [
    {
     "data": {
      "text/plain": [
       "RTD_ST_CD                0\n",
       "CustomerSegment          0\n",
       "Tenure                   0\n",
       "Age                      0\n",
       "MART_STATUS              0\n",
       "GENDER                   0\n",
       "CHANNEL1_6M              0\n",
       "CHANNEL2_6M              0\n",
       "CHANNEL3_6M              0\n",
       "CHANNEL4_6M              0\n",
       "CHANNEL5_6M              0\n",
       "METHOD1_6M               0\n",
       "RECENT_PAYMENT           0\n",
       "PAYMENTS_6M              0\n",
       "CHANNEL1_3M              0\n",
       "CHANNEL2_3M              0\n",
       "CHANNEL3_3M              0\n",
       "CHANNEL4_3M              0\n",
       "CHANNEL5_3M              0\n",
       "METHOD1_3M               0\n",
       "PAYMENTS_3M              0\n",
       "NOT_DI_3M                0\n",
       "NOT_DI_6M                0\n",
       "EVENT2_90_SUM            0\n",
       "LOGINS                   0\n",
       "POLICYPURCHASECHANNEL    0\n",
       "Call_Flag                0\n",
       "dtype: int64"
      ]
     },
     "execution_count": 13,
     "metadata": {},
     "output_type": "execute_result"
    }
   ],
   "source": [
    "df = data.dropna() #removing null values\n",
    "df.isnull().sum() #Checking the missing values"
   ]
  },
  {
   "cell_type": "code",
   "execution_count": 14,
   "metadata": {},
   "outputs": [
    {
     "name": "stdout",
     "output_type": "stream",
     "text": [
      "There are 125594 rows and 27 columns of data.\n"
     ]
    }
   ],
   "source": [
    "#See the shape of data after removing the missing values and droping unnecessary columns\n",
    "print(f\"There are {df.shape[0]} rows and {df.shape[1]} columns of data.\")"
   ]
  },
  {
   "cell_type": "code",
   "execution_count": 15,
   "metadata": {},
   "outputs": [],
   "source": [
    "# Convert labels to numbers \n",
    "df['GENDER'] = LabelEncoder().fit_transform(df['GENDER'])\n",
    "df['RTD_ST_CD'] = LabelEncoder().fit_transform(df['RTD_ST_CD'])\n",
    "df['MART_STATUS'] = LabelEncoder().fit_transform(df['MART_STATUS'])\n",
    "df['NOT_DI_3M'] = LabelEncoder().fit_transform(df['NOT_DI_3M'])\n",
    "df['NOT_DI_6M'] = LabelEncoder().fit_transform(df['NOT_DI_6M'])\n",
    "df['POLICYPURCHASECHANNEL'] = LabelEncoder().fit_transform(df['POLICYPURCHASECHANNEL'])"
   ]
  },
  {
   "cell_type": "code",
   "execution_count": 16,
   "metadata": {},
   "outputs": [
    {
     "name": "stdout",
     "output_type": "stream",
     "text": [
      "<class 'pandas.core.frame.DataFrame'>\n",
      "Int64Index: 125594 entries, 0 to 130085\n",
      "Data columns (total 27 columns):\n",
      " #   Column                 Non-Null Count   Dtype   \n",
      "---  ------                 --------------   -----   \n",
      " 0   RTD_ST_CD              125594 non-null  int64   \n",
      " 1   CustomerSegment        125594 non-null  category\n",
      " 2   Tenure                 125594 non-null  float64 \n",
      " 3   Age                    125594 non-null  float64 \n",
      " 4   MART_STATUS            125594 non-null  int64   \n",
      " 5   GENDER                 125594 non-null  int64   \n",
      " 6   CHANNEL1_6M            125594 non-null  float64 \n",
      " 7   CHANNEL2_6M            125594 non-null  float64 \n",
      " 8   CHANNEL3_6M            125594 non-null  float64 \n",
      " 9   CHANNEL4_6M            125594 non-null  float64 \n",
      " 10  CHANNEL5_6M            125594 non-null  float64 \n",
      " 11  METHOD1_6M             125594 non-null  float64 \n",
      " 12  RECENT_PAYMENT         125594 non-null  float64 \n",
      " 13  PAYMENTS_6M            125594 non-null  float64 \n",
      " 14  CHANNEL1_3M            125594 non-null  int64   \n",
      " 15  CHANNEL2_3M            125594 non-null  int64   \n",
      " 16  CHANNEL3_3M            125594 non-null  int64   \n",
      " 17  CHANNEL4_3M            125594 non-null  int64   \n",
      " 18  CHANNEL5_3M            125594 non-null  int64   \n",
      " 19  METHOD1_3M             125594 non-null  int64   \n",
      " 20  PAYMENTS_3M            125594 non-null  int64   \n",
      " 21  NOT_DI_3M              125594 non-null  int64   \n",
      " 22  NOT_DI_6M              125594 non-null  int64   \n",
      " 23  EVENT2_90_SUM          125594 non-null  int64   \n",
      " 24  LOGINS                 125594 non-null  int64   \n",
      " 25  POLICYPURCHASECHANNEL  125594 non-null  int64   \n",
      " 26  Call_Flag              125594 non-null  int64   \n",
      "dtypes: category(1), float64(10), int64(16)\n",
      "memory usage: 26.0 MB\n"
     ]
    }
   ],
   "source": [
    "df.info()"
   ]
  },
  {
   "cell_type": "code",
   "execution_count": 17,
   "metadata": {},
   "outputs": [
    {
     "name": "stdout",
     "output_type": "stream",
     "text": [
      "[ 0  1 12 23 34 45 47 48 49 50  2  3  4  5  6  7  8  9 10 11 13 14 15 16\n",
      " 17 18 19 20 21 22 24 25 26 27 28 29 30 31 32 33 35 36 37 38 39 40 41 42\n",
      " 43 44 46]\n",
      "51\n"
     ]
    }
   ],
   "source": [
    "#Unique values of RTD_ST_CD\n",
    "print(df['RTD_ST_CD'].unique())\n",
    "print(len(df['RTD_ST_CD'].unique()))"
   ]
  },
  {
   "cell_type": "markdown",
   "metadata": {},
   "source": [
    "RTD_ST_CD variable has 51 unique values.  This feature may indicate States of the US.  \n",
    "\n",
    "We use a sorted barplot to visualize the averaged Call_Flag against RTD_ST_CD.  Having 51 categorical dummies are creating way too many variables. Thus, we need to design our strategy to cut groups from \"RTD_ST_CD\". This can be done by taking the average \"Call_Flag\". And then we have three categorical dummies instead and the column \"RTD_ST_CD\" will be dropped."
   ]
  },
  {
   "cell_type": "code",
   "execution_count": 18,
   "metadata": {},
   "outputs": [
    {
     "data": {
      "image/png": "[encoded data removed]",
      "text/plain": [
       "<Figure size 1152x360 with 1 Axes>"
      ]
     },
     "metadata": {},
     "output_type": "display_data"
    }
   ],
   "source": [
    "df.groupby(\"RTD_ST_CD\")[\"Call_Flag\"].mean().sort_values().plot(kind=\"bar\", figsize=(16,5));"
   ]
  },
  {
   "cell_type": "code",
   "execution_count": 19,
   "metadata": {},
   "outputs": [],
   "source": [
    "df = df.join(pd.cut(df.groupby(\n",
    "            \"RTD_ST_CD\")[\"Call_Flag\"].mean().sort_values(), 4, labels=[\n",
    "            \"0\",\"1\",\"2\",\"3\"]), on=\"RTD_ST_CD\", rsuffix=\"_ST\")\n",
    "df.drop([\"RTD_ST_CD\"], axis=1, inplace=True)"
   ]
  },
  {
   "cell_type": "code",
   "execution_count": 20,
   "metadata": {},
   "outputs": [
    {
     "name": "stdout",
     "output_type": "stream",
     "text": [
      "<class 'pandas.core.frame.DataFrame'>\n",
      "Int64Index: 125594 entries, 0 to 130085\n",
      "Data columns (total 27 columns):\n",
      " #   Column                 Non-Null Count   Dtype   \n",
      "---  ------                 --------------   -----   \n",
      " 0   CustomerSegment        125594 non-null  category\n",
      " 1   Tenure                 125594 non-null  float64 \n",
      " 2   Age                    125594 non-null  float64 \n",
      " 3   MART_STATUS            125594 non-null  int64   \n",
      " 4   GENDER                 125594 non-null  int64   \n",
      " 5   CHANNEL1_6M            125594 non-null  float64 \n",
      " 6   CHANNEL2_6M            125594 non-null  float64 \n",
      " 7   CHANNEL3_6M            125594 non-null  float64 \n",
      " 8   CHANNEL4_6M            125594 non-null  float64 \n",
      " 9   CHANNEL5_6M            125594 non-null  float64 \n",
      " 10  METHOD1_6M             125594 non-null  float64 \n",
      " 11  RECENT_PAYMENT         125594 non-null  float64 \n",
      " 12  PAYMENTS_6M            125594 non-null  float64 \n",
      " 13  CHANNEL1_3M            125594 non-null  int64   \n",
      " 14  CHANNEL2_3M            125594 non-null  int64   \n",
      " 15  CHANNEL3_3M            125594 non-null  int64   \n",
      " 16  CHANNEL4_3M            125594 non-null  int64   \n",
      " 17  CHANNEL5_3M            125594 non-null  int64   \n",
      " 18  METHOD1_3M             125594 non-null  int64   \n",
      " 19  PAYMENTS_3M            125594 non-null  int64   \n",
      " 20  NOT_DI_3M              125594 non-null  int64   \n",
      " 21  NOT_DI_6M              125594 non-null  int64   \n",
      " 22  EVENT2_90_SUM          125594 non-null  int64   \n",
      " 23  LOGINS                 125594 non-null  int64   \n",
      " 24  POLICYPURCHASECHANNEL  125594 non-null  int64   \n",
      " 25  Call_Flag              125594 non-null  int64   \n",
      " 26  Call_Flag_ST           125594 non-null  category\n",
      "dtypes: category(2), float64(10), int64(15)\n",
      "memory usage: 25.2 MB\n"
     ]
    }
   ],
   "source": [
    "df.info()"
   ]
  },
  {
   "cell_type": "markdown",
   "metadata": {},
   "source": [
    "##### Data Reduction:   Check correlation between variables with Channel_6Ms and Channel_3Ms.\n"
   ]
  },
  {
   "cell_type": "code",
   "execution_count": 21,
   "metadata": {},
   "outputs": [
    {
     "data": {
      "image/png": "[encoded data removed]",
      "text/plain": [
       "<Figure size 1440x2016 with 15 Axes>"
      ]
     },
     "metadata": {},
     "output_type": "display_data"
    }
   ],
   "source": [
    "#Select only the numeric features.\n",
    "v_features = ['CHANNEL1_6M', 'CHANNEL2_6M', 'CHANNEL3_6M',\n",
    "       'CHANNEL4_6M', 'CHANNEL5_6M', 'METHOD1_6M', 'RECENT_PAYMENT',\n",
    "       'PAYMENTS_6M', 'CHANNEL1_3M', 'CHANNEL2_3M', 'CHANNEL3_3M',\n",
    "       'CHANNEL4_3M', 'CHANNEL5_3M', 'METHOD1_3M', 'PAYMENTS_3M']#, 'NOT_DI_3M',\n",
    "       #'NOT_DI_6M', 'EVENT2_90_SUM', 'LOGINS',\n",
    "       #'POLICYPURCHASECHANNEL', 'Call_Flag']\n",
    "\n",
    "\n",
    "plt.figure(figsize=(20,7*4))\n",
    "gs = gridspec.GridSpec(7, 4)\n",
    "for i, cn in enumerate(df[v_features]):\n",
    "    ax = plt.subplot(gs[i])\n",
    "    sns.distplot(df[cn][df['Call_Flag'] == 1], bins=50)\n",
    "    sns.distplot(df[cn][df['Call_Flag'] == 0], bins=50)\n",
    "    ax.set_xlabel('')\n",
    "    ax.set_title('Feature: ' + str(cn))\n",
    "plt.show()"
   ]
  },
  {
   "cell_type": "markdown",
   "metadata": {},
   "source": [
    "\n",
    "It shows that all CHANNEL_6Ms variables are highly correlated  to CHANNEL_3Ms variables. To avoid multicollinearity, all CHANNEL_6Ms variables will be dropped. For the same reason, METHOD1_6Ms, PAYMENTS_6Ms can also be dropped."
   ]
  },
  {
   "cell_type": "markdown",
   "metadata": {},
   "source": [
    "**OR:  Let us visualize in other ways**"
   ]
  },
  {
   "cell_type": "code",
   "execution_count": 22,
   "metadata": {},
   "outputs": [
    {
     "data": {
      "text/plain": [
       "<seaborn.axisgrid.FacetGrid at 0x7fe0cc8a6460>"
      ]
     },
     "execution_count": 22,
     "metadata": {},
     "output_type": "execute_result"
    },
    {
     "data": {
      "image/png": "[encoded data removed]",
      "text/plain": [
       "<Figure size 422.675x360 with 1 Axes>"
      ]
     },
     "metadata": {},
     "output_type": "display_data"
    }
   ],
   "source": [
    "sns.set_style('whitegrid')   ## Background Grid\n",
    "sns.FacetGrid(data, hue = 'Call_Flag', size = 5).map(plt.scatter, 'CHANNEL1_3M', 'CHANNEL1_6M').add_legend()"
   ]
  },
  {
   "cell_type": "code",
   "execution_count": 23,
   "metadata": {},
   "outputs": [
    {
     "data": {
      "text/plain": [
       "<seaborn.axisgrid.FacetGrid at 0x7fe0ce8862b0>"
      ]
     },
     "execution_count": 23,
     "metadata": {},
     "output_type": "execute_result"
    },
    {
     "data": {
      "image/png": "[encoded data removed]",
      "text/plain": [
       "<Figure size 422.675x360 with 1 Axes>"
      ]
     },
     "metadata": {},
     "output_type": "display_data"
    }
   ],
   "source": [
    "sns.set_style('whitegrid')   ## Background Grid\n",
    "sns.FacetGrid(data, hue = 'Call_Flag', size = 5).map(plt.scatter, 'CHANNEL2_3M', 'CHANNEL2_6M').add_legend()"
   ]
  },
  {
   "cell_type": "code",
   "execution_count": 24,
   "metadata": {},
   "outputs": [
    {
     "data": {
      "text/plain": [
       "<seaborn.axisgrid.FacetGrid at 0x7fe0c4820760>"
      ]
     },
     "execution_count": 24,
     "metadata": {},
     "output_type": "execute_result"
    },
    {
     "data": {
      "image/png": "[encoded data removed]",
      "text/plain": [
       "<Figure size 422.675x360 with 1 Axes>"
      ]
     },
     "metadata": {},
     "output_type": "display_data"
    }
   ],
   "source": [
    "sns.set_style('whitegrid')   ## Background Grid\n",
    "sns.FacetGrid(data, hue = 'Call_Flag', size = 5).map(plt.scatter, 'CHANNEL3_3M', 'CHANNEL3_6M').add_legend()"
   ]
  },
  {
   "cell_type": "code",
   "execution_count": 25,
   "metadata": {},
   "outputs": [
    {
     "data": {
      "text/plain": [
       "<seaborn.axisgrid.FacetGrid at 0x7fe0ce87b0d0>"
      ]
     },
     "execution_count": 25,
     "metadata": {},
     "output_type": "execute_result"
    },
    {
     "data": {
      "image/png": "[encoded data removed]",
      "text/plain": [
       "<Figure size 422.675x360 with 1 Axes>"
      ]
     },
     "metadata": {},
     "output_type": "display_data"
    }
   ],
   "source": [
    "sns.set_style('whitegrid')   ## Background Grid\n",
    "sns.FacetGrid(data, hue = 'Call_Flag', size = 5).map(plt.scatter, 'CHANNEL4_3M', 'CHANNEL4_6M').add_legend()"
   ]
  },
  {
   "cell_type": "code",
   "execution_count": 26,
   "metadata": {},
   "outputs": [
    {
     "data": {
      "text/plain": [
       "<seaborn.axisgrid.FacetGrid at 0x7fe0c4484640>"
      ]
     },
     "execution_count": 26,
     "metadata": {},
     "output_type": "execute_result"
    },
    {
     "data": {
      "image/png": "[encoded data removed]",
      "text/plain": [
       "<Figure size 422.675x360 with 1 Axes>"
      ]
     },
     "metadata": {},
     "output_type": "display_data"
    }
   ],
   "source": [
    "sns.set_style('whitegrid')   ## Background Grid\n",
    "sns.FacetGrid(data, hue = 'Call_Flag', size = 5).map(plt.scatter, 'CHANNEL5_3M', 'CHANNEL5_6M').add_legend()"
   ]
  },
  {
   "cell_type": "code",
   "execution_count": 27,
   "metadata": {},
   "outputs": [
    {
     "data": {
      "text/plain": [
       "<seaborn.axisgrid.FacetGrid at 0x7fe0c44c69a0>"
      ]
     },
     "execution_count": 27,
     "metadata": {},
     "output_type": "execute_result"
    },
    {
     "data": {
      "image/png": "[encoded data removed]",
      "text/plain": [
       "<Figure size 422.675x360 with 1 Axes>"
      ]
     },
     "metadata": {},
     "output_type": "display_data"
    }
   ],
   "source": [
    "sns.set_style('whitegrid')   ## Background Grid\n",
    "sns.FacetGrid(data, hue = 'Call_Flag', size = 5).map(plt.scatter, 'PAYMENTS_3M', 'PAYMENTS_6M').add_legend()"
   ]
  },
  {
   "cell_type": "code",
   "execution_count": 28,
   "metadata": {},
   "outputs": [
    {
     "data": {
      "text/plain": [
       "<seaborn.axisgrid.FacetGrid at 0x7fe0c511f910>"
      ]
     },
     "execution_count": 28,
     "metadata": {},
     "output_type": "execute_result"
    },
    {
     "data": {
      "image/png": "[encoded data removed]",
      "text/plain": [
       "<Figure size 422.675x360 with 1 Axes>"
      ]
     },
     "metadata": {},
     "output_type": "display_data"
    }
   ],
   "source": [
    "sns.set_style('whitegrid')   ## Background Grid\n",
    "sns.FacetGrid(data, hue = 'Call_Flag', size = 5).map(plt.scatter, 'METHOD1_3M', 'METHOD1_6M').add_legend()"
   ]
  },
  {
   "cell_type": "markdown",
   "metadata": {},
   "source": [
    "We observed that there is a multicollinearity and to avoid it we wll drop the \"CHANNEL_6M\"s variables."
   ]
  },
  {
   "cell_type": "code",
   "execution_count": 29,
   "metadata": {},
   "outputs": [
    {
     "data": {
      "text/html": [
       "<div>\n",
       "<style scoped>\n",
       "    .dataframe tbody tr th:only-of-type {\n",
       "        vertical-align: middle;\n",
       "    }\n",
       "\n",
       "    .dataframe tbody tr th {\n",
       "        vertical-align: top;\n",
       "    }\n",
       "\n",
       "    .dataframe thead th {\n",
       "        text-align: right;\n",
       "    }\n",
       "</style>\n",
       "<table border=\"1\" class=\"dataframe\">\n",
       "  <thead>\n",
       "    <tr style=\"text-align: right;\">\n",
       "      <th></th>\n",
       "      <th>Age</th>\n",
       "      <th>MART_STATUS</th>\n",
       "      <th>GENDER</th>\n",
       "      <th>CHANNEL1_6M</th>\n",
       "      <th>CHANNEL2_6M</th>\n",
       "      <th>METHOD1_6M</th>\n",
       "      <th>RECENT_PAYMENT</th>\n",
       "      <th>PAYMENTS_6M</th>\n",
       "      <th>CHANNEL1_3M</th>\n",
       "      <th>CHANNEL2_3M</th>\n",
       "    </tr>\n",
       "  </thead>\n",
       "  <tbody>\n",
       "    <tr>\n",
       "      <th>Age</th>\n",
       "      <td>1.000000</td>\n",
       "      <td>0.092446</td>\n",
       "      <td>0.000873</td>\n",
       "      <td>-0.163731</td>\n",
       "      <td>0.079162</td>\n",
       "      <td>-0.282054</td>\n",
       "      <td>-0.049889</td>\n",
       "      <td>-0.073188</td>\n",
       "      <td>-0.140722</td>\n",
       "      <td>0.067882</td>\n",
       "    </tr>\n",
       "    <tr>\n",
       "      <th>MART_STATUS</th>\n",
       "      <td>0.092446</td>\n",
       "      <td>1.000000</td>\n",
       "      <td>0.023300</td>\n",
       "      <td>-0.026285</td>\n",
       "      <td>0.008247</td>\n",
       "      <td>-0.023008</td>\n",
       "      <td>0.012244</td>\n",
       "      <td>0.019356</td>\n",
       "      <td>-0.022297</td>\n",
       "      <td>0.008157</td>\n",
       "    </tr>\n",
       "    <tr>\n",
       "      <th>GENDER</th>\n",
       "      <td>0.000873</td>\n",
       "      <td>0.023300</td>\n",
       "      <td>1.000000</td>\n",
       "      <td>-0.009330</td>\n",
       "      <td>-0.069097</td>\n",
       "      <td>0.002899</td>\n",
       "      <td>-0.025852</td>\n",
       "      <td>-0.057450</td>\n",
       "      <td>-0.009876</td>\n",
       "      <td>-0.063661</td>\n",
       "    </tr>\n",
       "    <tr>\n",
       "      <th>CHANNEL1_6M</th>\n",
       "      <td>-0.163731</td>\n",
       "      <td>-0.026285</td>\n",
       "      <td>-0.009330</td>\n",
       "      <td>1.000000</td>\n",
       "      <td>-0.086647</td>\n",
       "      <td>0.352024</td>\n",
       "      <td>0.035531</td>\n",
       "      <td>0.279189</td>\n",
       "      <td>0.905238</td>\n",
       "      <td>-0.073462</td>\n",
       "    </tr>\n",
       "    <tr>\n",
       "      <th>CHANNEL2_6M</th>\n",
       "      <td>0.079162</td>\n",
       "      <td>0.008247</td>\n",
       "      <td>-0.069097</td>\n",
       "      <td>-0.086647</td>\n",
       "      <td>1.000000</td>\n",
       "      <td>0.155897</td>\n",
       "      <td>0.059767</td>\n",
       "      <td>0.181469</td>\n",
       "      <td>-0.078940</td>\n",
       "      <td>0.949807</td>\n",
       "    </tr>\n",
       "    <tr>\n",
       "      <th>METHOD1_6M</th>\n",
       "      <td>-0.282054</td>\n",
       "      <td>-0.023008</td>\n",
       "      <td>0.002899</td>\n",
       "      <td>0.352024</td>\n",
       "      <td>0.155897</td>\n",
       "      <td>1.000000</td>\n",
       "      <td>0.106312</td>\n",
       "      <td>0.394325</td>\n",
       "      <td>0.292990</td>\n",
       "      <td>0.160440</td>\n",
       "    </tr>\n",
       "    <tr>\n",
       "      <th>RECENT_PAYMENT</th>\n",
       "      <td>-0.049889</td>\n",
       "      <td>0.012244</td>\n",
       "      <td>-0.025852</td>\n",
       "      <td>0.035531</td>\n",
       "      <td>0.059767</td>\n",
       "      <td>0.106312</td>\n",
       "      <td>1.000000</td>\n",
       "      <td>0.179232</td>\n",
       "      <td>0.035429</td>\n",
       "      <td>0.069001</td>\n",
       "    </tr>\n",
       "    <tr>\n",
       "      <th>PAYMENTS_6M</th>\n",
       "      <td>-0.073188</td>\n",
       "      <td>0.019356</td>\n",
       "      <td>-0.057450</td>\n",
       "      <td>0.279189</td>\n",
       "      <td>0.181469</td>\n",
       "      <td>0.394325</td>\n",
       "      <td>0.179232</td>\n",
       "      <td>1.000000</td>\n",
       "      <td>0.227947</td>\n",
       "      <td>0.188668</td>\n",
       "    </tr>\n",
       "    <tr>\n",
       "      <th>CHANNEL1_3M</th>\n",
       "      <td>-0.140722</td>\n",
       "      <td>-0.022297</td>\n",
       "      <td>-0.009876</td>\n",
       "      <td>0.905238</td>\n",
       "      <td>-0.078940</td>\n",
       "      <td>0.292990</td>\n",
       "      <td>0.035429</td>\n",
       "      <td>0.227947</td>\n",
       "      <td>1.000000</td>\n",
       "      <td>-0.069539</td>\n",
       "    </tr>\n",
       "    <tr>\n",
       "      <th>CHANNEL2_3M</th>\n",
       "      <td>0.067882</td>\n",
       "      <td>0.008157</td>\n",
       "      <td>-0.063661</td>\n",
       "      <td>-0.073462</td>\n",
       "      <td>0.949807</td>\n",
       "      <td>0.160440</td>\n",
       "      <td>0.069001</td>\n",
       "      <td>0.188668</td>\n",
       "      <td>-0.069539</td>\n",
       "      <td>1.000000</td>\n",
       "    </tr>\n",
       "  </tbody>\n",
       "</table>\n",
       "</div>"
      ],
      "text/plain": [
       "                     Age  MART_STATUS    GENDER  CHANNEL1_6M  CHANNEL2_6M  \\\n",
       "Age             1.000000     0.092446  0.000873    -0.163731     0.079162   \n",
       "MART_STATUS     0.092446     1.000000  0.023300    -0.026285     0.008247   \n",
       "GENDER          0.000873     0.023300  1.000000    -0.009330    -0.069097   \n",
       "CHANNEL1_6M    -0.163731    -0.026285 -0.009330     1.000000    -0.086647   \n",
       "CHANNEL2_6M     0.079162     0.008247 -0.069097    -0.086647     1.000000   \n",
       "METHOD1_6M     -0.282054    -0.023008  0.002899     0.352024     0.155897   \n",
       "RECENT_PAYMENT -0.049889     0.012244 -0.025852     0.035531     0.059767   \n",
       "PAYMENTS_6M    -0.073188     0.019356 -0.057450     0.279189     0.181469   \n",
       "CHANNEL1_3M    -0.140722    -0.022297 -0.009876     0.905238    -0.078940   \n",
       "CHANNEL2_3M     0.067882     0.008157 -0.063661    -0.073462     0.949807   \n",
       "\n",
       "                METHOD1_6M  RECENT_PAYMENT  PAYMENTS_6M  CHANNEL1_3M  \\\n",
       "Age              -0.282054       -0.049889    -0.073188    -0.140722   \n",
       "MART_STATUS      -0.023008        0.012244     0.019356    -0.022297   \n",
       "GENDER            0.002899       -0.025852    -0.057450    -0.009876   \n",
       "CHANNEL1_6M       0.352024        0.035531     0.279189     0.905238   \n",
       "CHANNEL2_6M       0.155897        0.059767     0.181469    -0.078940   \n",
       "METHOD1_6M        1.000000        0.106312     0.394325     0.292990   \n",
       "RECENT_PAYMENT    0.106312        1.000000     0.179232     0.035429   \n",
       "PAYMENTS_6M       0.394325        0.179232     1.000000     0.227947   \n",
       "CHANNEL1_3M       0.292990        0.035429     0.227947     1.000000   \n",
       "CHANNEL2_3M       0.160440        0.069001     0.188668    -0.069539   \n",
       "\n",
       "                CHANNEL2_3M  \n",
       "Age                0.067882  \n",
       "MART_STATUS        0.008157  \n",
       "GENDER            -0.063661  \n",
       "CHANNEL1_6M       -0.073462  \n",
       "CHANNEL2_6M        0.949807  \n",
       "METHOD1_6M         0.160440  \n",
       "RECENT_PAYMENT     0.069001  \n",
       "PAYMENTS_6M        0.188668  \n",
       "CHANNEL1_3M       -0.069539  \n",
       "CHANNEL2_3M        1.000000  "
      ]
     },
     "execution_count": 29,
     "metadata": {},
     "output_type": "execute_result"
    }
   ],
   "source": [
    "df.iloc[:,[2,3,4,5,6,10,11,12,13,14]].corr()"
   ]
  },
  {
   "cell_type": "code",
   "execution_count": 30,
   "metadata": {},
   "outputs": [
    {
     "data": {
      "text/html": [
       "<div>\n",
       "<style scoped>\n",
       "    .dataframe tbody tr th:only-of-type {\n",
       "        vertical-align: middle;\n",
       "    }\n",
       "\n",
       "    .dataframe tbody tr th {\n",
       "        vertical-align: top;\n",
       "    }\n",
       "\n",
       "    .dataframe thead th {\n",
       "        text-align: right;\n",
       "    }\n",
       "</style>\n",
       "<table border=\"1\" class=\"dataframe\">\n",
       "  <thead>\n",
       "    <tr style=\"text-align: right;\">\n",
       "      <th></th>\n",
       "      <th>CHANNEL3_6M</th>\n",
       "      <th>CHANNEL5_6M</th>\n",
       "      <th>CHANNEL3_3M</th>\n",
       "      <th>CHANNEL4_3M</th>\n",
       "      <th>CHANNEL5_3M</th>\n",
       "      <th>METHOD1_3M</th>\n",
       "      <th>PAYMENTS_3M</th>\n",
       "      <th>NOT_DI_3M</th>\n",
       "    </tr>\n",
       "  </thead>\n",
       "  <tbody>\n",
       "    <tr>\n",
       "      <th>CHANNEL3_6M</th>\n",
       "      <td>1.000000</td>\n",
       "      <td>-0.149369</td>\n",
       "      <td>0.965213</td>\n",
       "      <td>-0.107089</td>\n",
       "      <td>-0.141995</td>\n",
       "      <td>-0.267045</td>\n",
       "      <td>0.094294</td>\n",
       "      <td>-0.101534</td>\n",
       "    </tr>\n",
       "    <tr>\n",
       "      <th>CHANNEL5_6M</th>\n",
       "      <td>-0.149369</td>\n",
       "      <td>1.000000</td>\n",
       "      <td>-0.143899</td>\n",
       "      <td>-0.098175</td>\n",
       "      <td>0.966084</td>\n",
       "      <td>-0.207729</td>\n",
       "      <td>0.111205</td>\n",
       "      <td>-0.077717</td>\n",
       "    </tr>\n",
       "    <tr>\n",
       "      <th>CHANNEL3_3M</th>\n",
       "      <td>0.965213</td>\n",
       "      <td>-0.143899</td>\n",
       "      <td>1.000000</td>\n",
       "      <td>-0.110152</td>\n",
       "      <td>-0.138822</td>\n",
       "      <td>-0.260429</td>\n",
       "      <td>0.135716</td>\n",
       "      <td>-0.093586</td>\n",
       "    </tr>\n",
       "    <tr>\n",
       "      <th>CHANNEL4_3M</th>\n",
       "      <td>-0.107089</td>\n",
       "      <td>-0.098175</td>\n",
       "      <td>-0.110152</td>\n",
       "      <td>1.000000</td>\n",
       "      <td>-0.096414</td>\n",
       "      <td>0.226919</td>\n",
       "      <td>0.178062</td>\n",
       "      <td>0.073980</td>\n",
       "    </tr>\n",
       "    <tr>\n",
       "      <th>CHANNEL5_3M</th>\n",
       "      <td>-0.141995</td>\n",
       "      <td>0.966084</td>\n",
       "      <td>-0.138822</td>\n",
       "      <td>-0.096414</td>\n",
       "      <td>1.000000</td>\n",
       "      <td>-0.202463</td>\n",
       "      <td>0.150837</td>\n",
       "      <td>-0.072101</td>\n",
       "    </tr>\n",
       "    <tr>\n",
       "      <th>METHOD1_3M</th>\n",
       "      <td>-0.267045</td>\n",
       "      <td>-0.207729</td>\n",
       "      <td>-0.260429</td>\n",
       "      <td>0.226919</td>\n",
       "      <td>-0.202463</td>\n",
       "      <td>1.000000</td>\n",
       "      <td>0.428335</td>\n",
       "      <td>0.278702</td>\n",
       "    </tr>\n",
       "    <tr>\n",
       "      <th>PAYMENTS_3M</th>\n",
       "      <td>0.094294</td>\n",
       "      <td>0.111205</td>\n",
       "      <td>0.135716</td>\n",
       "      <td>0.178062</td>\n",
       "      <td>0.150837</td>\n",
       "      <td>0.428335</td>\n",
       "      <td>1.000000</td>\n",
       "      <td>0.196524</td>\n",
       "    </tr>\n",
       "    <tr>\n",
       "      <th>NOT_DI_3M</th>\n",
       "      <td>-0.101534</td>\n",
       "      <td>-0.077717</td>\n",
       "      <td>-0.093586</td>\n",
       "      <td>0.073980</td>\n",
       "      <td>-0.072101</td>\n",
       "      <td>0.278702</td>\n",
       "      <td>0.196524</td>\n",
       "      <td>1.000000</td>\n",
       "    </tr>\n",
       "  </tbody>\n",
       "</table>\n",
       "</div>"
      ],
      "text/plain": [
       "             CHANNEL3_6M  CHANNEL5_6M  CHANNEL3_3M  CHANNEL4_3M  CHANNEL5_3M  \\\n",
       "CHANNEL3_6M     1.000000    -0.149369     0.965213    -0.107089    -0.141995   \n",
       "CHANNEL5_6M    -0.149369     1.000000    -0.143899    -0.098175     0.966084   \n",
       "CHANNEL3_3M     0.965213    -0.143899     1.000000    -0.110152    -0.138822   \n",
       "CHANNEL4_3M    -0.107089    -0.098175    -0.110152     1.000000    -0.096414   \n",
       "CHANNEL5_3M    -0.141995     0.966084    -0.138822    -0.096414     1.000000   \n",
       "METHOD1_3M     -0.267045    -0.207729    -0.260429     0.226919    -0.202463   \n",
       "PAYMENTS_3M     0.094294     0.111205     0.135716     0.178062     0.150837   \n",
       "NOT_DI_3M      -0.101534    -0.077717    -0.093586     0.073980    -0.072101   \n",
       "\n",
       "             METHOD1_3M  PAYMENTS_3M  NOT_DI_3M  \n",
       "CHANNEL3_6M   -0.267045     0.094294  -0.101534  \n",
       "CHANNEL5_6M   -0.207729     0.111205  -0.077717  \n",
       "CHANNEL3_3M   -0.260429     0.135716  -0.093586  \n",
       "CHANNEL4_3M    0.226919     0.178062   0.073980  \n",
       "CHANNEL5_3M   -0.202463     0.150837  -0.072101  \n",
       "METHOD1_3M     1.000000     0.428335   0.278702  \n",
       "PAYMENTS_3M    0.428335     1.000000   0.196524  \n",
       "NOT_DI_3M      0.278702     0.196524   1.000000  "
      ]
     },
     "execution_count": 30,
     "metadata": {},
     "output_type": "execute_result"
    }
   ],
   "source": [
    "df.iloc[:,[7,9,15,16,17,18,19,20]].corr()"
   ]
  },
  {
   "cell_type": "code",
   "execution_count": 31,
   "metadata": {},
   "outputs": [],
   "source": [
    "df.drop(['CHANNEL1_6M','CHANNEL2_6M','CHANNEL3_6M','CHANNEL4_6M','CHANNEL5_6M',\n",
    "           'METHOD1_6M','PAYMENTS_6M'], axis=1, inplace=True)\n",
    "#df[['RECENT_PAYMENT','NOT_DI_3M','NOT_DI_6M','POLICYPURCHASECHANNEL','Call_Flag']] = data[\n",
    "#    ['RECENT_PAYMENT','NOT_DI_3M','NOT_DI_6M','POLICYPURCHASECHANNEL','Call_Flag']].astype('category')"
   ]
  },
  {
   "cell_type": "code",
   "execution_count": 32,
   "metadata": {},
   "outputs": [],
   "source": [
    "pd.options.mode.chained_assignment = None \n",
    "\n",
    "# Let's apply Frequency Encoding for all the categorical features\n",
    "\n",
    "frq_rt = df.groupby('Call_Flag_ST').size()/len(df)\n",
    "df.loc[:, 'Rated_Encoded']=df['Call_Flag_ST'].map(frq_rt)\n",
    "\n",
    "\n",
    "frq_cs = df.groupby('CustomerSegment').size()/len(df)\n",
    "df.loc[:, 'Cust_segm_Encoded']=df['CustomerSegment'].map(frq_cs)\n",
    "\n",
    "# Let's remove the original eight categorical features\n",
    "\n",
    "cat=['Call_Flag_ST','CustomerSegment']#, 'MART_STATUS', 'GENDER',  'RECENT_PAYMENT', 'NOT_DI_3M','NOT_DI_6M', 'POLICYPURCHASECHANNEL']\n",
    "df=df.drop(cat, axis=1)"
   ]
  },
  {
   "cell_type": "code",
   "execution_count": 33,
   "metadata": {},
   "outputs": [
    {
     "name": "stdout",
     "output_type": "stream",
     "text": [
      "<class 'pandas.core.frame.DataFrame'>\n",
      "Int64Index: 125594 entries, 0 to 130085\n",
      "Data columns (total 20 columns):\n",
      " #   Column                 Non-Null Count   Dtype  \n",
      "---  ------                 --------------   -----  \n",
      " 0   Tenure                 125594 non-null  float64\n",
      " 1   Age                    125594 non-null  float64\n",
      " 2   MART_STATUS            125594 non-null  int64  \n",
      " 3   GENDER                 125594 non-null  int64  \n",
      " 4   RECENT_PAYMENT         125594 non-null  float64\n",
      " 5   CHANNEL1_3M            125594 non-null  int64  \n",
      " 6   CHANNEL2_3M            125594 non-null  int64  \n",
      " 7   CHANNEL3_3M            125594 non-null  int64  \n",
      " 8   CHANNEL4_3M            125594 non-null  int64  \n",
      " 9   CHANNEL5_3M            125594 non-null  int64  \n",
      " 10  METHOD1_3M             125594 non-null  int64  \n",
      " 11  PAYMENTS_3M            125594 non-null  int64  \n",
      " 12  NOT_DI_3M              125594 non-null  int64  \n",
      " 13  NOT_DI_6M              125594 non-null  int64  \n",
      " 14  EVENT2_90_SUM          125594 non-null  int64  \n",
      " 15  LOGINS                 125594 non-null  int64  \n",
      " 16  POLICYPURCHASECHANNEL  125594 non-null  int64  \n",
      " 17  Call_Flag              125594 non-null  int64  \n",
      " 18  Rated_Encoded          125594 non-null  int64  \n",
      " 19  Cust_segm_Encoded      125594 non-null  int64  \n",
      "dtypes: float64(3), int64(17)\n",
      "memory usage: 20.1 MB\n"
     ]
    }
   ],
   "source": [
    "df['Rated_Encoded'] = LabelEncoder().fit_transform(df['Rated_Encoded'])\n",
    "df['Cust_segm_Encoded'] = LabelEncoder().fit_transform(df['Cust_segm_Encoded'])\n",
    "df.info()"
   ]
  },
  {
   "cell_type": "markdown",
   "metadata": {},
   "source": [
    "##### Understanding Target Variable\n",
    "- The variable 'Call_Flag' is our target variable. It is an integer with values of \"0\" representing the policyholder didn't make a service payment call and \"1\" representing the policyholder made a service payment call."
   ]
  },
  {
   "cell_type": "code",
   "execution_count": 34,
   "metadata": {},
   "outputs": [
    {
     "name": "stdout",
     "output_type": "stream",
     "text": [
      "Making a service call 96.32 % of the dataset\n",
      "Not Making a service call 3.68 % of the dataset\n"
     ]
    }
   ],
   "source": [
    "print('Making a service call', round(df['Call_Flag'].value_counts()[0]/len(df)*100,2),'% of the dataset')\n",
    "print('Not Making a service call',round(df['Call_Flag'].value_counts()[1]/len(df)*100,2),'% of the dataset')"
   ]
  },
  {
   "cell_type": "code",
   "execution_count": 35,
   "metadata": {},
   "outputs": [
    {
     "data": {
      "text/html": [
       "        <script type=\"text/javascript\">\n",
       "        window.PlotlyConfig = {MathJaxConfig: 'local'};\n",
       "        if (window.MathJax) {MathJax.Hub.Config({SVG: {font: \"STIX-Web\"}});}\n",
       "        if (typeof require !== 'undefined') {\n",
       "        require.undef(\"plotly\");\n",
       "        requirejs.config({\n",
       "            paths: {\n",
       "                'plotly': ['https://cdn.plot.ly/plotly-latest.min']\n",
       "            }\n",
       "        });\n",
       "        require(['plotly'], function(Plotly) {\n",
       "            window._Plotly = Plotly;\n",
       "        });\n",
       "        }\n",
       "        </script>\n",
       "        "
      ]
     },
     "metadata": {},
     "output_type": "display_data"
    },
    {
     "data": {
      "text/html": [
       "        <script type=\"text/javascript\">\n",
       "        window.PlotlyConfig = {MathJaxConfig: 'local'};\n",
       "        if (window.MathJax) {MathJax.Hub.Config({SVG: {font: \"STIX-Web\"}});}\n",
       "        if (typeof require !== 'undefined') {\n",
       "        require.undef(\"plotly\");\n",
       "        requirejs.config({\n",
       "            paths: {\n",
       "                'plotly': ['https://cdn.plot.ly/plotly-latest.min']\n",
       "            }\n",
       "        });\n",
       "        require(['plotly'], function(Plotly) {\n",
       "            window._Plotly = Plotly;\n",
       "        });\n",
       "        }\n",
       "        </script>\n",
       "        "
      ]
     },
     "metadata": {},
     "output_type": "display_data"
    },
    {
     "data": {
      "application/vnd.plotly.v1+json": {
       "config": {
        "linkText": "Export to plot.ly",
        "plotlyServerURL": "https://plot.ly",
        "showLink": false
       },
       "data": [
        {
         "labels": [
          "No Service Payment Call",
          "Service Payment Call"
         ],
         "marker": {
          "colors": [
           "lightgreen",
           "gold"
          ],
          "line": {
           "color": "#000000",
           "width": 1.05
          }
         },
         "opacity": 0.8,
         "textfont": {
          "size": 10
         },
         "type": "pie",
         "values": [
          120969,
          4625
         ]
        }
       ],
       "layout": {
        "template": {
         "data": {
          "bar": [
           {
            "error_x": {
             "color": "#2a3f5f"
            },
            "error_y": {
             "color": "#2a3f5f"
            },
            "marker": {
             "line": {
              "color": "#E5ECF6",
              "width": 0.5
             }
            },
            "type": "bar"
           }
          ],
          "barpolar": [
           {
            "marker": {
             "line": {
              "color": "#E5ECF6",
              "width": 0.5
             }
            },
            "type": "barpolar"
           }
          ],
          "carpet": [
           {
            "aaxis": {
             "endlinecolor": "#2a3f5f",
             "gridcolor": "white",
             "linecolor": "white",
             "minorgridcolor": "white",
             "startlinecolor": "#2a3f5f"
            },
            "baxis": {
             "endlinecolor": "#2a3f5f",
             "gridcolor": "white",
             "linecolor": "white",
             "minorgridcolor": "white",
             "startlinecolor": "#2a3f5f"
            },
            "type": "carpet"
           }
          ],
          "choropleth": [
           {
            "colorbar": {
             "outlinewidth": 0,
             "ticks": ""
            },
            "type": "choropleth"
           }
          ],
          "contour": [
           {
            "colorbar": {
             "outlinewidth": 0,
             "ticks": ""
            },
            "colorscale": [
             [
              0,
              "#0d0887"
             ],
             [
              0.1111111111111111,
              "#46039f"
             ],
             [
              0.2222222222222222,
              "#7201a8"
             ],
             [
              0.3333333333333333,
              "#9c179e"
             ],
             [
              0.4444444444444444,
              "#bd3786"
             ],
             [
              0.5555555555555556,
              "#d8576b"
             ],
             [
              0.6666666666666666,
              "#ed7953"
             ],
             [
              0.7777777777777778,
              "#fb9f3a"
             ],
             [
              0.8888888888888888,
              "#fdca26"
             ],
             [
              1,
              "#f0f921"
             ]
            ],
            "type": "contour"
           }
          ],
          "contourcarpet": [
           {
            "colorbar": {
             "outlinewidth": 0,
             "ticks": ""
            },
            "type": "contourcarpet"
           }
          ],
          "heatmap": [
           {
            "colorbar": {
             "outlinewidth": 0,
             "ticks": ""
            },
            "colorscale": [
             [
              0,
              "#0d0887"
             ],
             [
              0.1111111111111111,
              "#46039f"
             ],
             [
              0.2222222222222222,
              "#7201a8"
             ],
             [
              0.3333333333333333,
              "#9c179e"
             ],
             [
              0.4444444444444444,
              "#bd3786"
             ],
             [
              0.5555555555555556,
              "#d8576b"
             ],
             [
              0.6666666666666666,
              "#ed7953"
             ],
             [
              0.7777777777777778,
              "#fb9f3a"
             ],
             [
              0.8888888888888888,
              "#fdca26"
             ],
             [
              1,
              "#f0f921"
             ]
            ],
            "type": "heatmap"
           }
          ],
          "heatmapgl": [
           {
            "colorbar": {
             "outlinewidth": 0,
             "ticks": ""
            },
            "colorscale": [
             [
              0,
              "#0d0887"
             ],
             [
              0.1111111111111111,
              "#46039f"
             ],
             [
              0.2222222222222222,
              "#7201a8"
             ],
             [
              0.3333333333333333,
              "#9c179e"
             ],
             [
              0.4444444444444444,
              "#bd3786"
             ],
             [
              0.5555555555555556,
              "#d8576b"
             ],
             [
              0.6666666666666666,
              "#ed7953"
             ],
             [
              0.7777777777777778,
              "#fb9f3a"
             ],
             [
              0.8888888888888888,
              "#fdca26"
             ],
             [
              1,
              "#f0f921"
             ]
            ],
            "type": "heatmapgl"
           }
          ],
          "histogram": [
           {
            "marker": {
             "colorbar": {
              "outlinewidth": 0,
              "ticks": ""
             }
            },
            "type": "histogram"
           }
          ],
          "histogram2d": [
           {
            "colorbar": {
             "outlinewidth": 0,
             "ticks": ""
            },
            "colorscale": [
             [
              0,
              "#0d0887"
             ],
             [
              0.1111111111111111,
              "#46039f"
             ],
             [
              0.2222222222222222,
              "#7201a8"
             ],
             [
              0.3333333333333333,
              "#9c179e"
             ],
             [
              0.4444444444444444,
              "#bd3786"
             ],
             [
              0.5555555555555556,
              "#d8576b"
             ],
             [
              0.6666666666666666,
              "#ed7953"
             ],
             [
              0.7777777777777778,
              "#fb9f3a"
             ],
             [
              0.8888888888888888,
              "#fdca26"
             ],
             [
              1,
              "#f0f921"
             ]
            ],
            "type": "histogram2d"
           }
          ],
          "histogram2dcontour": [
           {
            "colorbar": {
             "outlinewidth": 0,
             "ticks": ""
            },
            "colorscale": [
             [
              0,
              "#0d0887"
             ],
             [
              0.1111111111111111,
              "#46039f"
             ],
             [
              0.2222222222222222,
              "#7201a8"
             ],
             [
              0.3333333333333333,
              "#9c179e"
             ],
             [
              0.4444444444444444,
              "#bd3786"
             ],
             [
              0.5555555555555556,
              "#d8576b"
             ],
             [
              0.6666666666666666,
              "#ed7953"
             ],
             [
              0.7777777777777778,
              "#fb9f3a"
             ],
             [
              0.8888888888888888,
              "#fdca26"
             ],
             [
              1,
              "#f0f921"
             ]
            ],
            "type": "histogram2dcontour"
           }
          ],
          "mesh3d": [
           {
            "colorbar": {
             "outlinewidth": 0,
             "ticks": ""
            },
            "type": "mesh3d"
           }
          ],
          "parcoords": [
           {
            "line": {
             "colorbar": {
              "outlinewidth": 0,
              "ticks": ""
             }
            },
            "type": "parcoords"
           }
          ],
          "pie": [
           {
            "automargin": true,
            "type": "pie"
           }
          ],
          "scatter": [
           {
            "marker": {
             "colorbar": {
              "outlinewidth": 0,
              "ticks": ""
             }
            },
            "type": "scatter"
           }
          ],
          "scatter3d": [
           {
            "line": {
             "colorbar": {
              "outlinewidth": 0,
              "ticks": ""
             }
            },
            "marker": {
             "colorbar": {
              "outlinewidth": 0,
              "ticks": ""
             }
            },
            "type": "scatter3d"
           }
          ],
          "scattercarpet": [
           {
            "marker": {
             "colorbar": {
              "outlinewidth": 0,
              "ticks": ""
             }
            },
            "type": "scattercarpet"
           }
          ],
          "scattergeo": [
           {
            "marker": {
             "colorbar": {
              "outlinewidth": 0,
              "ticks": ""
             }
            },
            "type": "scattergeo"
           }
          ],
          "scattergl": [
           {
            "marker": {
             "colorbar": {
              "outlinewidth": 0,
              "ticks": ""
             }
            },
            "type": "scattergl"
           }
          ],
          "scattermapbox": [
           {
            "marker": {
             "colorbar": {
              "outlinewidth": 0,
              "ticks": ""
             }
            },
            "type": "scattermapbox"
           }
          ],
          "scatterpolar": [
           {
            "marker": {
             "colorbar": {
              "outlinewidth": 0,
              "ticks": ""
             }
            },
            "type": "scatterpolar"
           }
          ],
          "scatterpolargl": [
           {
            "marker": {
             "colorbar": {
              "outlinewidth": 0,
              "ticks": ""
             }
            },
            "type": "scatterpolargl"
           }
          ],
          "scatterternary": [
           {
            "marker": {
             "colorbar": {
              "outlinewidth": 0,
              "ticks": ""
             }
            },
            "type": "scatterternary"
           }
          ],
          "surface": [
           {
            "colorbar": {
             "outlinewidth": 0,
             "ticks": ""
            },
            "colorscale": [
             [
              0,
              "#0d0887"
             ],
             [
              0.1111111111111111,
              "#46039f"
             ],
             [
              0.2222222222222222,
              "#7201a8"
             ],
             [
              0.3333333333333333,
              "#9c179e"
             ],
             [
              0.4444444444444444,
              "#bd3786"
             ],
             [
              0.5555555555555556,
              "#d8576b"
             ],
             [
              0.6666666666666666,
              "#ed7953"
             ],
             [
              0.7777777777777778,
              "#fb9f3a"
             ],
             [
              0.8888888888888888,
              "#fdca26"
             ],
             [
              1,
              "#f0f921"
             ]
            ],
            "type": "surface"
           }
          ],
          "table": [
           {
            "cells": {
             "fill": {
              "color": "#EBF0F8"
             },
             "line": {
              "color": "white"
             }
            },
            "header": {
             "fill": {
              "color": "#C8D4E3"
             },
             "line": {
              "color": "white"
             }
            },
            "type": "table"
           }
          ]
         },
         "layout": {
          "annotationdefaults": {
           "arrowcolor": "#2a3f5f",
           "arrowhead": 0,
           "arrowwidth": 1
          },
          "coloraxis": {
           "colorbar": {
            "outlinewidth": 0,
            "ticks": ""
           }
          },
          "colorscale": {
           "diverging": [
            [
             0,
             "#8e0152"
            ],
            [
             0.1,
             "#c51b7d"
            ],
            [
             0.2,
             "#de77ae"
            ],
            [
             0.3,
             "#f1b6da"
            ],
            [
             0.4,
             "#fde0ef"
            ],
            [
             0.5,
             "#f7f7f7"
            ],
            [
             0.6,
             "#e6f5d0"
            ],
            [
             0.7,
             "#b8e186"
            ],
            [
             0.8,
             "#7fbc41"
            ],
            [
             0.9,
             "#4d9221"
            ],
            [
             1,
             "#276419"
            ]
           ],
           "sequential": [
            [
             0,
             "#0d0887"
            ],
            [
             0.1111111111111111,
             "#46039f"
            ],
            [
             0.2222222222222222,
             "#7201a8"
            ],
            [
             0.3333333333333333,
             "#9c179e"
            ],
            [
             0.4444444444444444,
             "#bd3786"
            ],
            [
             0.5555555555555556,
             "#d8576b"
            ],
            [
             0.6666666666666666,
             "#ed7953"
            ],
            [
             0.7777777777777778,
             "#fb9f3a"
            ],
            [
             0.8888888888888888,
             "#fdca26"
            ],
            [
             1,
             "#f0f921"
            ]
           ],
           "sequentialminus": [
            [
             0,
             "#0d0887"
            ],
            [
             0.1111111111111111,
             "#46039f"
            ],
            [
             0.2222222222222222,
             "#7201a8"
            ],
            [
             0.3333333333333333,
             "#9c179e"
            ],
            [
             0.4444444444444444,
             "#bd3786"
            ],
            [
             0.5555555555555556,
             "#d8576b"
            ],
            [
             0.6666666666666666,
             "#ed7953"
            ],
            [
             0.7777777777777778,
             "#fb9f3a"
            ],
            [
             0.8888888888888888,
             "#fdca26"
            ],
            [
             1,
             "#f0f921"
            ]
           ]
          },
          "colorway": [
           "#636efa",
           "#EF553B",
           "#00cc96",
           "#ab63fa",
           "#FFA15A",
           "#19d3f3",
           "#FF6692",
           "#B6E880",
           "#FF97FF",
           "#FECB52"
          ],
          "font": {
           "color": "#2a3f5f"
          },
          "geo": {
           "bgcolor": "white",
           "lakecolor": "white",
           "landcolor": "#E5ECF6",
           "showlakes": true,
           "showland": true,
           "subunitcolor": "white"
          },
          "hoverlabel": {
           "align": "left"
          },
          "hovermode": "closest",
          "mapbox": {
           "style": "light"
          },
          "paper_bgcolor": "white",
          "plot_bgcolor": "#E5ECF6",
          "polar": {
           "angularaxis": {
            "gridcolor": "white",
            "linecolor": "white",
            "ticks": ""
           },
           "bgcolor": "#E5ECF6",
           "radialaxis": {
            "gridcolor": "white",
            "linecolor": "white",
            "ticks": ""
           }
          },
          "scene": {
           "xaxis": {
            "backgroundcolor": "#E5ECF6",
            "gridcolor": "white",
            "gridwidth": 2,
            "linecolor": "white",
            "showbackground": true,
            "ticks": "",
            "zerolinecolor": "white"
           },
           "yaxis": {
            "backgroundcolor": "#E5ECF6",
            "gridcolor": "white",
            "gridwidth": 2,
            "linecolor": "white",
            "showbackground": true,
            "ticks": "",
            "zerolinecolor": "white"
           },
           "zaxis": {
            "backgroundcolor": "#E5ECF6",
            "gridcolor": "white",
            "gridwidth": 2,
            "linecolor": "white",
            "showbackground": true,
            "ticks": "",
            "zerolinecolor": "white"
           }
          },
          "shapedefaults": {
           "line": {
            "color": "#2a3f5f"
           }
          },
          "ternary": {
           "aaxis": {
            "gridcolor": "white",
            "linecolor": "white",
            "ticks": ""
           },
           "baxis": {
            "gridcolor": "white",
            "linecolor": "white",
            "ticks": ""
           },
           "bgcolor": "#E5ECF6",
           "caxis": {
            "gridcolor": "white",
            "linecolor": "white",
            "ticks": ""
           }
          },
          "title": {
           "x": 0.05
          },
          "xaxis": {
           "automargin": true,
           "gridcolor": "white",
           "linecolor": "white",
           "ticks": "",
           "title": {
            "standoff": 15
           },
           "zerolinecolor": "white",
           "zerolinewidth": 2
          },
          "yaxis": {
           "automargin": true,
           "gridcolor": "white",
           "linecolor": "white",
           "ticks": "",
           "title": {
            "standoff": 15
           },
           "zerolinecolor": "white",
           "zerolinewidth": 2
          }
         }
        },
        "title": {
         "text": "Distribution of Call_Flag variable"
        }
       }
      },
      "text/html": [
       "<div>\n",
       "        \n",
       "        \n",
       "            <div id=\"6b1d29fd-c70a-4e37-91ec-ea1d3f6d8e18\" class=\"plotly-graph-div\" style=\"height:525px; width:100%;\"></div>\n",
       "            <script type=\"text/javascript\">\n",
       "                require([\"plotly\"], function(Plotly) {\n",
       "                    window.PLOTLYENV=window.PLOTLYENV || {};\n",
       "                    \n",
       "                if (document.getElementById(\"6b1d29fd-c70a-4e37-91ec-ea1d3f6d8e18\")) {\n",
       "                    Plotly.newPlot(\n",
       "                        '6b1d29fd-c70a-4e37-91ec-ea1d3f6d8e18',\n",
       "                        [{\"labels\": [\"No Service Payment Call\", \"Service Payment Call\"], \"marker\": {\"colors\": [\"lightgreen\", \"gold\"], \"line\": {\"color\": \"#000000\", \"width\": 1.05}}, \"opacity\": 0.8, \"textfont\": {\"size\": 10}, \"type\": \"pie\", \"values\": [120969, 4625]}],\n",
       "                        {\"template\": {\"data\": {\"bar\": [{\"error_x\": {\"color\": \"#2a3f5f\"}, \"error_y\": {\"color\": \"#2a3f5f\"}, \"marker\": {\"line\": {\"color\": \"#E5ECF6\", \"width\": 0.5}}, \"type\": \"bar\"}], \"barpolar\": [{\"marker\": {\"line\": {\"color\": \"#E5ECF6\", \"width\": 0.5}}, \"type\": \"barpolar\"}], \"carpet\": [{\"aaxis\": {\"endlinecolor\": \"#2a3f5f\", \"gridcolor\": \"white\", \"linecolor\": \"white\", \"minorgridcolor\": \"white\", \"startlinecolor\": \"#2a3f5f\"}, \"baxis\": {\"endlinecolor\": \"#2a3f5f\", \"gridcolor\": \"white\", \"linecolor\": \"white\", \"minorgridcolor\": \"white\", \"startlinecolor\": \"#2a3f5f\"}, \"type\": \"carpet\"}], \"choropleth\": [{\"colorbar\": {\"outlinewidth\": 0, \"ticks\": \"\"}, \"type\": \"choropleth\"}], \"contour\": [{\"colorbar\": {\"outlinewidth\": 0, \"ticks\": \"\"}, \"colorscale\": [[0.0, \"#0d0887\"], [0.1111111111111111, \"#46039f\"], [0.2222222222222222, \"#7201a8\"], [0.3333333333333333, \"#9c179e\"], [0.4444444444444444, \"#bd3786\"], [0.5555555555555556, \"#d8576b\"], [0.6666666666666666, \"#ed7953\"], [0.7777777777777778, \"#fb9f3a\"], [0.8888888888888888, \"#fdca26\"], [1.0, \"#f0f921\"]], \"type\": \"contour\"}], \"contourcarpet\": [{\"colorbar\": {\"outlinewidth\": 0, \"ticks\": \"\"}, \"type\": \"contourcarpet\"}], \"heatmap\": [{\"colorbar\": {\"outlinewidth\": 0, \"ticks\": \"\"}, \"colorscale\": [[0.0, \"#0d0887\"], [0.1111111111111111, \"#46039f\"], [0.2222222222222222, \"#7201a8\"], [0.3333333333333333, \"#9c179e\"], [0.4444444444444444, \"#bd3786\"], [0.5555555555555556, \"#d8576b\"], [0.6666666666666666, \"#ed7953\"], [0.7777777777777778, \"#fb9f3a\"], [0.8888888888888888, \"#fdca26\"], [1.0, \"#f0f921\"]], \"type\": \"heatmap\"}], \"heatmapgl\": [{\"colorbar\": {\"outlinewidth\": 0, \"ticks\": \"\"}, \"colorscale\": [[0.0, \"#0d0887\"], [0.1111111111111111, \"#46039f\"], [0.2222222222222222, \"#7201a8\"], [0.3333333333333333, \"#9c179e\"], [0.4444444444444444, \"#bd3786\"], [0.5555555555555556, \"#d8576b\"], [0.6666666666666666, \"#ed7953\"], [0.7777777777777778, \"#fb9f3a\"], [0.8888888888888888, \"#fdca26\"], [1.0, \"#f0f921\"]], \"type\": \"heatmapgl\"}], \"histogram\": [{\"marker\": {\"colorbar\": {\"outlinewidth\": 0, \"ticks\": \"\"}}, \"type\": \"histogram\"}], \"histogram2d\": [{\"colorbar\": {\"outlinewidth\": 0, \"ticks\": \"\"}, \"colorscale\": [[0.0, \"#0d0887\"], [0.1111111111111111, \"#46039f\"], [0.2222222222222222, \"#7201a8\"], [0.3333333333333333, \"#9c179e\"], [0.4444444444444444, \"#bd3786\"], [0.5555555555555556, \"#d8576b\"], [0.6666666666666666, \"#ed7953\"], [0.7777777777777778, \"#fb9f3a\"], [0.8888888888888888, \"#fdca26\"], [1.0, \"#f0f921\"]], \"type\": \"histogram2d\"}], \"histogram2dcontour\": [{\"colorbar\": {\"outlinewidth\": 0, \"ticks\": \"\"}, \"colorscale\": [[0.0, \"#0d0887\"], [0.1111111111111111, \"#46039f\"], [0.2222222222222222, \"#7201a8\"], [0.3333333333333333, \"#9c179e\"], [0.4444444444444444, \"#bd3786\"], [0.5555555555555556, \"#d8576b\"], [0.6666666666666666, \"#ed7953\"], [0.7777777777777778, \"#fb9f3a\"], [0.8888888888888888, \"#fdca26\"], [1.0, \"#f0f921\"]], \"type\": \"histogram2dcontour\"}], \"mesh3d\": [{\"colorbar\": {\"outlinewidth\": 0, \"ticks\": \"\"}, \"type\": \"mesh3d\"}], \"parcoords\": [{\"line\": {\"colorbar\": {\"outlinewidth\": 0, \"ticks\": \"\"}}, \"type\": \"parcoords\"}], \"pie\": [{\"automargin\": true, \"type\": \"pie\"}], \"scatter\": [{\"marker\": {\"colorbar\": {\"outlinewidth\": 0, \"ticks\": \"\"}}, \"type\": \"scatter\"}], \"scatter3d\": [{\"line\": {\"colorbar\": {\"outlinewidth\": 0, \"ticks\": \"\"}}, \"marker\": {\"colorbar\": {\"outlinewidth\": 0, \"ticks\": \"\"}}, \"type\": \"scatter3d\"}], \"scattercarpet\": [{\"marker\": {\"colorbar\": {\"outlinewidth\": 0, \"ticks\": \"\"}}, \"type\": \"scattercarpet\"}], \"scattergeo\": [{\"marker\": {\"colorbar\": {\"outlinewidth\": 0, \"ticks\": \"\"}}, \"type\": \"scattergeo\"}], \"scattergl\": [{\"marker\": {\"colorbar\": {\"outlinewidth\": 0, \"ticks\": \"\"}}, \"type\": \"scattergl\"}], \"scattermapbox\": [{\"marker\": {\"colorbar\": {\"outlinewidth\": 0, \"ticks\": \"\"}}, \"type\": \"scattermapbox\"}], \"scatterpolar\": [{\"marker\": {\"colorbar\": {\"outlinewidth\": 0, \"ticks\": \"\"}}, \"type\": \"scatterpolar\"}], \"scatterpolargl\": [{\"marker\": {\"colorbar\": {\"outlinewidth\": 0, \"ticks\": \"\"}}, \"type\": \"scatterpolargl\"}], \"scatterternary\": [{\"marker\": {\"colorbar\": {\"outlinewidth\": 0, \"ticks\": \"\"}}, \"type\": \"scatterternary\"}], \"surface\": [{\"colorbar\": {\"outlinewidth\": 0, \"ticks\": \"\"}, \"colorscale\": [[0.0, \"#0d0887\"], [0.1111111111111111, \"#46039f\"], [0.2222222222222222, \"#7201a8\"], [0.3333333333333333, \"#9c179e\"], [0.4444444444444444, \"#bd3786\"], [0.5555555555555556, \"#d8576b\"], [0.6666666666666666, \"#ed7953\"], [0.7777777777777778, \"#fb9f3a\"], [0.8888888888888888, \"#fdca26\"], [1.0, \"#f0f921\"]], \"type\": \"surface\"}], \"table\": [{\"cells\": {\"fill\": {\"color\": \"#EBF0F8\"}, \"line\": {\"color\": \"white\"}}, \"header\": {\"fill\": {\"color\": \"#C8D4E3\"}, \"line\": {\"color\": \"white\"}}, \"type\": \"table\"}]}, \"layout\": {\"annotationdefaults\": {\"arrowcolor\": \"#2a3f5f\", \"arrowhead\": 0, \"arrowwidth\": 1}, \"coloraxis\": {\"colorbar\": {\"outlinewidth\": 0, \"ticks\": \"\"}}, \"colorscale\": {\"diverging\": [[0, \"#8e0152\"], [0.1, \"#c51b7d\"], [0.2, \"#de77ae\"], [0.3, \"#f1b6da\"], [0.4, \"#fde0ef\"], [0.5, \"#f7f7f7\"], [0.6, \"#e6f5d0\"], [0.7, \"#b8e186\"], [0.8, \"#7fbc41\"], [0.9, \"#4d9221\"], [1, \"#276419\"]], \"sequential\": [[0.0, \"#0d0887\"], [0.1111111111111111, \"#46039f\"], [0.2222222222222222, \"#7201a8\"], [0.3333333333333333, \"#9c179e\"], [0.4444444444444444, \"#bd3786\"], [0.5555555555555556, \"#d8576b\"], [0.6666666666666666, \"#ed7953\"], [0.7777777777777778, \"#fb9f3a\"], [0.8888888888888888, \"#fdca26\"], [1.0, \"#f0f921\"]], \"sequentialminus\": [[0.0, \"#0d0887\"], [0.1111111111111111, \"#46039f\"], [0.2222222222222222, \"#7201a8\"], [0.3333333333333333, \"#9c179e\"], [0.4444444444444444, \"#bd3786\"], [0.5555555555555556, \"#d8576b\"], [0.6666666666666666, \"#ed7953\"], [0.7777777777777778, \"#fb9f3a\"], [0.8888888888888888, \"#fdca26\"], [1.0, \"#f0f921\"]]}, \"colorway\": [\"#636efa\", \"#EF553B\", \"#00cc96\", \"#ab63fa\", \"#FFA15A\", \"#19d3f3\", \"#FF6692\", \"#B6E880\", \"#FF97FF\", \"#FECB52\"], \"font\": {\"color\": \"#2a3f5f\"}, \"geo\": {\"bgcolor\": \"white\", \"lakecolor\": \"white\", \"landcolor\": \"#E5ECF6\", \"showlakes\": true, \"showland\": true, \"subunitcolor\": \"white\"}, \"hoverlabel\": {\"align\": \"left\"}, \"hovermode\": \"closest\", \"mapbox\": {\"style\": \"light\"}, \"paper_bgcolor\": \"white\", \"plot_bgcolor\": \"#E5ECF6\", \"polar\": {\"angularaxis\": {\"gridcolor\": \"white\", \"linecolor\": \"white\", \"ticks\": \"\"}, \"bgcolor\": \"#E5ECF6\", \"radialaxis\": {\"gridcolor\": \"white\", \"linecolor\": \"white\", \"ticks\": \"\"}}, \"scene\": {\"xaxis\": {\"backgroundcolor\": \"#E5ECF6\", \"gridcolor\": \"white\", \"gridwidth\": 2, \"linecolor\": \"white\", \"showbackground\": true, \"ticks\": \"\", \"zerolinecolor\": \"white\"}, \"yaxis\": {\"backgroundcolor\": \"#E5ECF6\", \"gridcolor\": \"white\", \"gridwidth\": 2, \"linecolor\": \"white\", \"showbackground\": true, \"ticks\": \"\", \"zerolinecolor\": \"white\"}, \"zaxis\": {\"backgroundcolor\": \"#E5ECF6\", \"gridcolor\": \"white\", \"gridwidth\": 2, \"linecolor\": \"white\", \"showbackground\": true, \"ticks\": \"\", \"zerolinecolor\": \"white\"}}, \"shapedefaults\": {\"line\": {\"color\": \"#2a3f5f\"}}, \"ternary\": {\"aaxis\": {\"gridcolor\": \"white\", \"linecolor\": \"white\", \"ticks\": \"\"}, \"baxis\": {\"gridcolor\": \"white\", \"linecolor\": \"white\", \"ticks\": \"\"}, \"bgcolor\": \"#E5ECF6\", \"caxis\": {\"gridcolor\": \"white\", \"linecolor\": \"white\", \"ticks\": \"\"}}, \"title\": {\"x\": 0.05}, \"xaxis\": {\"automargin\": true, \"gridcolor\": \"white\", \"linecolor\": \"white\", \"ticks\": \"\", \"title\": {\"standoff\": 15}, \"zerolinecolor\": \"white\", \"zerolinewidth\": 2}, \"yaxis\": {\"automargin\": true, \"gridcolor\": \"white\", \"linecolor\": \"white\", \"ticks\": \"\", \"title\": {\"standoff\": 15}, \"zerolinecolor\": \"white\", \"zerolinewidth\": 2}}}, \"title\": {\"text\": \"Distribution of Call_Flag variable\"}},\n",
       "                        {\"responsive\": true}\n",
       "                    ).then(function(){\n",
       "                            \n",
       "var gd = document.getElementById('6b1d29fd-c70a-4e37-91ec-ea1d3f6d8e18');\n",
       "var x = new MutationObserver(function (mutations, observer) {{\n",
       "        var display = window.getComputedStyle(gd).display;\n",
       "        if (!display || display === 'none') {{\n",
       "            console.log([gd, 'removed!']);\n",
       "            Plotly.purge(gd);\n",
       "            observer.disconnect();\n",
       "        }}\n",
       "}});\n",
       "\n",
       "// Listen for the removal of the full notebook cells\n",
       "var notebookContainer = gd.closest('#notebook-container');\n",
       "if (notebookContainer) {{\n",
       "    x.observe(notebookContainer, {childList: true});\n",
       "}}\n",
       "\n",
       "// Listen for the clearing of the current output cell\n",
       "var outputEl = gd.closest('.output');\n",
       "if (outputEl) {{\n",
       "    x.observe(outputEl, {childList: true});\n",
       "}}\n",
       "\n",
       "                        })\n",
       "                };\n",
       "                });\n",
       "            </script>\n",
       "        </div>"
      ]
     },
     "metadata": {},
     "output_type": "display_data"
    }
   ],
   "source": [
    "import plotly.figure_factory as ff \n",
    "import plotly.offline as py\n",
    "import plotly.graph_objs as go \n",
    "from plotly.offline import download_plotlyjs,init_notebook_mode, iplot, plot\n",
    "from plotly import tools \n",
    "py.init_notebook_mode(connected = True)\n",
    "import warnings\n",
    "import cufflinks as cf\n",
    "cf.go_offline()\n",
    "\n",
    "#To see the making service call vs not making service call distribution\n",
    "yes = df[(df['Call_Flag'] == 1)]\n",
    "no = df[(df['Call_Flag'] != 0)]\n",
    "\n",
    "trace = go.Pie(labels = ['No Service Payment Call', 'Service Payment Call'],\n",
    "               values = df['Call_Flag'].value_counts(), \n",
    "               textfont=dict(size=10),\n",
    "               opacity = 0.8,\n",
    "               marker=dict(colors=['lightgreen','gold'],\n",
    "                           line=dict(color='#000000',width=1.05)))\n",
    "\n",
    "\n",
    "layout = dict(title =  'Distribution of Call_Flag variable')\n",
    "           \n",
    "fig = dict(data = [trace], layout=layout)\n",
    "py.iplot(fig)"
   ]
  },
  {
   "cell_type": "code",
   "execution_count": 36,
   "metadata": {},
   "outputs": [
    {
     "data": {
      "image/png": "[encoded data removed]",
      "text/plain": [
       "<Figure size 576x360 with 1 Axes>"
      ]
     },
     "metadata": {},
     "output_type": "display_data"
    }
   ],
   "source": [
    "# Visualize the target variable\n",
    "sns.set()\n",
    "plt.figure(figsize=(8, 5))\n",
    "df.groupby(['Call_Flag'])['Call_Flag'].count().plot.bar(color='lightgreen')\n",
    "plt.title(\"Frequency of  Service Payment Call\")\n",
    "plt.ylabel(\"Number of Call_Flag\")\n",
    "plt.savefig('abe.jpg')\n",
    "plt.xticks(np.arange(2), ['No Service Payment Call', 'Service Payment Call'], rotation=0);"
   ]
  },
  {
   "cell_type": "code",
   "execution_count": null,
   "metadata": {},
   "outputs": [],
   "source": []
  },
  {
   "cell_type": "markdown",
   "metadata": {},
   "source": [
    "<p>We noticed that there are many observations for no service payment call(0) as compared to service payment call (1). Hence, we are dealing with an imbalanced datasets. Most of machine learning algorithm not work well in the severe imbanced data set. </p>"
   ]
  },
  {
   "cell_type": "markdown",
   "metadata": {},
   "source": [
    "###  Outlier detection"
   ]
  },
  {
   "cell_type": "code",
   "execution_count": 37,
   "metadata": {},
   "outputs": [
    {
     "data": {
      "image/png": "[encoded data removed]",
      "text/plain": [
       "<Figure size 1296x2560 with 9 Axes>"
      ]
     },
     "metadata": {},
     "output_type": "display_data"
    }
   ],
   "source": [
    "cat_ft = ['Tenure','Age', 'CHANNEL1_3M', 'CHANNEL2_3M', 'CHANNEL3_3M', 'CHANNEL4_3M', 'CHANNEL5_3M', 'EVENT2_90_SUM', 'LOGINS']\n",
    "df_features=df[cat_ft]\n",
    "feature_list = df_features.columns.values\n",
    "number_of_columns= len(feature_list)\n",
    "number_of_rows = len(feature_list)-1/number_of_columns\n",
    "plt.figure(figsize=(2*number_of_columns,4*number_of_rows))\n",
    "for i in range(0,len(feature_list)):\n",
    "    plt.subplot(number_of_rows + 1,number_of_columns,i+1)\n",
    "    sns.set(style='darkgrid',palette='Set2')\n",
    "    #sns.set_style('whitegrid')\n",
    "    sns.boxplot(df_features[feature_list[i]],color='red',orient='v')\n",
    "    plt.tight_layout()"
   ]
  },
  {
   "cell_type": "code",
   "execution_count": 38,
   "metadata": {},
   "outputs": [
    {
     "data": {
      "image/png": "[encoded data removed]",
      "text/plain": [
       "<Figure size 1224x576 with 9 Axes>"
      ]
     },
     "metadata": {},
     "output_type": "display_data"
    }
   ],
   "source": [
    "# Check whether the distribution of the features is normal or skewed\n",
    "plt.figure(figsize=(17,8))\n",
    "for i in range(0,len(feature_list)):\n",
    "    plt.subplot(3,3,i+1)\n",
    "    plt.tight_layout()\n",
    "    sns.set(style='darkgrid',palette='Set2')\n",
    "    sns.distplot(df_features[feature_list[i]],kde=True,color='green')"
   ]
  },
  {
   "cell_type": "markdown",
   "metadata": {},
   "source": [
    "It can be seen from the boxplots that all features have outliers. From the the data distribution (density curve) above we can also observe that  \"Age\" feature is a  slightly normal distribution.\n",
    "\n",
    "The <code>Tenure</code> feature is skewed. Log transformation is applied to this data variable. No matter whether applying log transformation or not, there are too many outliers in this data variable. Also outliers are on the left side of the distribution for the log transformed Tenure variable, which shouldn't be removed. Therefore  we will keep these ouliers.\n",
    "\n",
    "<p>As we already saw that <code>Tenure</code> column has a extreme outliers so it necessary to remove them as they can effect the model's performance. We will use Interquartile range to detect outliers which removes anything below the lower limit (25 percentile) and anything above upper limit (75 Percentile). Here, as the data is skewed (kind of exponential) so having high cutoff may help us. We may also take the cutoff value as 5.0 instead of 1.5.</p>"
   ]
  },
  {
   "cell_type": "code",
   "execution_count": 39,
   "metadata": {},
   "outputs": [
    {
     "data": {
      "text/plain": [
       "<AxesSubplot:xlabel='Tenure'>"
      ]
     },
     "execution_count": 39,
     "metadata": {},
     "output_type": "execute_result"
    },
    {
     "data": {
      "image/png": "[encoded data removed]",
      "text/plain": [
       "<Figure size 432x288 with 1 Axes>"
      ]
     },
     "metadata": {},
     "output_type": "display_data"
    }
   ],
   "source": [
    "sns.distplot(np.log(df.Tenure))"
   ]
  },
  {
   "cell_type": "code",
   "execution_count": 40,
   "metadata": {},
   "outputs": [
    {
     "data": {
      "text/plain": [
       "<AxesSubplot:xlabel='Tenure'>"
      ]
     },
     "execution_count": 40,
     "metadata": {},
     "output_type": "execute_result"
    },
    {
     "data": {
      "image/png": "[encoded data removed]",
      "text/plain": [
       "<Figure size 432x288 with 1 Axes>"
      ]
     },
     "metadata": {},
     "output_type": "display_data"
    }
   ],
   "source": [
    "sns.boxplot(np.log(df.Tenure))"
   ]
  },
  {
   "cell_type": "code",
   "execution_count": 41,
   "metadata": {},
   "outputs": [
    {
     "data": {
      "text/plain": [
       "<AxesSubplot:xlabel='CHANNEL4_3M'>"
      ]
     },
     "execution_count": 41,
     "metadata": {},
     "output_type": "execute_result"
    },
    {
     "data": {
      "image/png": "[encoded data removed]",
      "text/plain": [
       "<Figure size 432x288 with 1 Axes>"
      ]
     },
     "metadata": {},
     "output_type": "display_data"
    }
   ],
   "source": [
    "sns.boxplot(df['CHANNEL4_3M'])"
   ]
  },
  {
   "cell_type": "code",
   "execution_count": 42,
   "metadata": {},
   "outputs": [
    {
     "data": {
      "text/plain": [
       "<AxesSubplot:xlabel='LOGINS'>"
      ]
     },
     "execution_count": 42,
     "metadata": {},
     "output_type": "execute_result"
    },
    {
     "data": {
      "image/png": "[encoded data removed]",
      "text/plain": [
       "<Figure size 432x288 with 1 Axes>"
      ]
     },
     "metadata": {},
     "output_type": "display_data"
    }
   ],
   "source": [
    "sns.boxplot(df['LOGINS'])"
   ]
  },
  {
   "cell_type": "code",
   "execution_count": 43,
   "metadata": {},
   "outputs": [],
   "source": [
    "def detectOutliers(df, feature_, cutoff):\n",
    "    Q3 = np.percentile(df[feature_], 75)\n",
    "    Q1 = np.percentile(df[feature_], 25)\n",
    "    IQR = (Q3 - Q1)\n",
    "    lower_fence = Q1 - (IQR * cutoff)\n",
    "    upper_fence = Q3 + (IQR * cutoff)\n",
    "    \n",
    "    filter_data = (df[feature_] < lower_fence) | (df[feature_] > upper_fence)\n",
    "    outliers = df[filter_data][feature_]\n",
    "    yes_call_outliers = df[(df['Call_Flag'] == 1) & filter_data][feature_]\n",
    "    no_call_outliers = df[(df['Call_Flag'] == 0) & filter_data][feature_]\n",
    "    \n",
    "    outliers_info = pd.DataFrame(columns=['Info','Value'])\n",
    "    \n",
    "    outliers_info.loc[0,'Info'] = 'Total Number of outliers '\n",
    "    outliers_info.loc[0,'Value'] = outliers.count()\n",
    "    \n",
    "    outliers_info.loc[1,'Info'] = 'Number of outliers in making a service payment call '\n",
    "    outliers_info.loc[1,'Value'] = yes_call_outliers.count()\n",
    "    \n",
    "    outliers_info.loc[2,'Info'] = 'Number of outliers in not making a service payment call '\n",
    "    outliers_info.loc[2,'Value'] = no_call_outliers.count()\n",
    "    \n",
    "    outliers_info.loc[3,'Info'] = 'Percentage of making a service payment call outliers '\n",
    "    outliers_info.loc[3,'Value'] = round((yes_call_outliers.count()/outliers.count())*100,2)\n",
    "    \n",
    "    return outliers, outliers_info"
   ]
  },
  {
   "cell_type": "code",
   "execution_count": 44,
   "metadata": {
    "scrolled": true
   },
   "outputs": [
    {
     "data": {
      "text/html": [
       "<div>\n",
       "<style scoped>\n",
       "    .dataframe tbody tr th:only-of-type {\n",
       "        vertical-align: middle;\n",
       "    }\n",
       "\n",
       "    .dataframe tbody tr th {\n",
       "        vertical-align: top;\n",
       "    }\n",
       "\n",
       "    .dataframe thead th {\n",
       "        text-align: right;\n",
       "    }\n",
       "</style>\n",
       "<table border=\"1\" class=\"dataframe\">\n",
       "  <thead>\n",
       "    <tr style=\"text-align: right;\">\n",
       "      <th></th>\n",
       "      <th>Info</th>\n",
       "      <th>Value</th>\n",
       "    </tr>\n",
       "  </thead>\n",
       "  <tbody>\n",
       "    <tr>\n",
       "      <th>0</th>\n",
       "      <td>Total Number of outliers</td>\n",
       "      <td>5004</td>\n",
       "    </tr>\n",
       "    <tr>\n",
       "      <th>1</th>\n",
       "      <td>Number of outliers in making a service payment...</td>\n",
       "      <td>169</td>\n",
       "    </tr>\n",
       "    <tr>\n",
       "      <th>2</th>\n",
       "      <td>Number of outliers in not making a service pay...</td>\n",
       "      <td>4835</td>\n",
       "    </tr>\n",
       "    <tr>\n",
       "      <th>3</th>\n",
       "      <td>Percentage of making a service payment call ou...</td>\n",
       "      <td>3.38</td>\n",
       "    </tr>\n",
       "  </tbody>\n",
       "</table>\n",
       "</div>"
      ],
      "text/plain": [
       "                                                Info Value\n",
       "0                          Total Number of outliers   5004\n",
       "1  Number of outliers in making a service payment...   169\n",
       "2  Number of outliers in not making a service pay...  4835\n",
       "3  Percentage of making a service payment call ou...  3.38"
      ]
     },
     "execution_count": 44,
     "metadata": {},
     "output_type": "execute_result"
    }
   ],
   "source": [
    "inner_fences_outliers, inner_fences_info = detectOutliers(df,\"Tenure\",1.5)\n",
    "inner_fences_info"
   ]
  },
  {
   "cell_type": "code",
   "execution_count": 45,
   "metadata": {},
   "outputs": [
    {
     "data": {
      "text/html": [
       "<div>\n",
       "<style scoped>\n",
       "    .dataframe tbody tr th:only-of-type {\n",
       "        vertical-align: middle;\n",
       "    }\n",
       "\n",
       "    .dataframe tbody tr th {\n",
       "        vertical-align: top;\n",
       "    }\n",
       "\n",
       "    .dataframe thead th {\n",
       "        text-align: right;\n",
       "    }\n",
       "</style>\n",
       "<table border=\"1\" class=\"dataframe\">\n",
       "  <thead>\n",
       "    <tr style=\"text-align: right;\">\n",
       "      <th></th>\n",
       "      <th>Info</th>\n",
       "      <th>Value</th>\n",
       "    </tr>\n",
       "  </thead>\n",
       "  <tbody>\n",
       "    <tr>\n",
       "      <th>0</th>\n",
       "      <td>Total Number of outliers</td>\n",
       "      <td>6</td>\n",
       "    </tr>\n",
       "    <tr>\n",
       "      <th>1</th>\n",
       "      <td>Number of outliers in making a service payment...</td>\n",
       "      <td>0</td>\n",
       "    </tr>\n",
       "    <tr>\n",
       "      <th>2</th>\n",
       "      <td>Number of outliers in not making a service pay...</td>\n",
       "      <td>6</td>\n",
       "    </tr>\n",
       "    <tr>\n",
       "      <th>3</th>\n",
       "      <td>Percentage of making a service payment call ou...</td>\n",
       "      <td>0</td>\n",
       "    </tr>\n",
       "  </tbody>\n",
       "</table>\n",
       "</div>"
      ],
      "text/plain": [
       "                                                Info Value\n",
       "0                          Total Number of outliers      6\n",
       "1  Number of outliers in making a service payment...     0\n",
       "2  Number of outliers in not making a service pay...     6\n",
       "3  Percentage of making a service payment call ou...     0"
      ]
     },
     "execution_count": 45,
     "metadata": {},
     "output_type": "execute_result"
    }
   ],
   "source": [
    "outer_fences_outliers, outer_fences_info = detectOutliers(df,\"Tenure\",5.0)\n",
    "outer_fences_info"
   ]
  },
  {
   "cell_type": "code",
   "execution_count": 46,
   "metadata": {},
   "outputs": [
    {
     "data": {
      "text/html": [
       "<div>\n",
       "<style scoped>\n",
       "    .dataframe tbody tr th:only-of-type {\n",
       "        vertical-align: middle;\n",
       "    }\n",
       "\n",
       "    .dataframe tbody tr th {\n",
       "        vertical-align: top;\n",
       "    }\n",
       "\n",
       "    .dataframe thead th {\n",
       "        text-align: right;\n",
       "    }\n",
       "</style>\n",
       "<table border=\"1\" class=\"dataframe\">\n",
       "  <thead>\n",
       "    <tr style=\"text-align: right;\">\n",
       "      <th></th>\n",
       "      <th>Info</th>\n",
       "      <th>Value</th>\n",
       "    </tr>\n",
       "  </thead>\n",
       "  <tbody>\n",
       "    <tr>\n",
       "      <th>0</th>\n",
       "      <td>Total Number of outliers</td>\n",
       "      <td>103</td>\n",
       "    </tr>\n",
       "    <tr>\n",
       "      <th>1</th>\n",
       "      <td>Number of outliers in making a service payment...</td>\n",
       "      <td>5</td>\n",
       "    </tr>\n",
       "    <tr>\n",
       "      <th>2</th>\n",
       "      <td>Number of outliers in not making a service pay...</td>\n",
       "      <td>98</td>\n",
       "    </tr>\n",
       "    <tr>\n",
       "      <th>3</th>\n",
       "      <td>Percentage of making a service payment call ou...</td>\n",
       "      <td>4.85</td>\n",
       "    </tr>\n",
       "  </tbody>\n",
       "</table>\n",
       "</div>"
      ],
      "text/plain": [
       "                                                Info Value\n",
       "0                          Total Number of outliers    103\n",
       "1  Number of outliers in making a service payment...     5\n",
       "2  Number of outliers in not making a service pay...    98\n",
       "3  Percentage of making a service payment call ou...  4.85"
      ]
     },
     "execution_count": 46,
     "metadata": {},
     "output_type": "execute_result"
    }
   ],
   "source": [
    "inner_fences_outliers1, inner_fences_info1 = detectOutliers(df,\"Age\",1.5)\n",
    "inner_fences_info1"
   ]
  },
  {
   "cell_type": "code",
   "execution_count": 47,
   "metadata": {},
   "outputs": [
    {
     "data": {
      "text/html": [
       "<div>\n",
       "<style scoped>\n",
       "    .dataframe tbody tr th:only-of-type {\n",
       "        vertical-align: middle;\n",
       "    }\n",
       "\n",
       "    .dataframe tbody tr th {\n",
       "        vertical-align: top;\n",
       "    }\n",
       "\n",
       "    .dataframe thead th {\n",
       "        text-align: right;\n",
       "    }\n",
       "</style>\n",
       "<table border=\"1\" class=\"dataframe\">\n",
       "  <thead>\n",
       "    <tr style=\"text-align: right;\">\n",
       "      <th></th>\n",
       "      <th>Info</th>\n",
       "      <th>Value</th>\n",
       "    </tr>\n",
       "  </thead>\n",
       "  <tbody>\n",
       "    <tr>\n",
       "      <th>0</th>\n",
       "      <td>Total Number of outliers</td>\n",
       "      <td>0</td>\n",
       "    </tr>\n",
       "    <tr>\n",
       "      <th>1</th>\n",
       "      <td>Number of outliers in making a service payment...</td>\n",
       "      <td>0</td>\n",
       "    </tr>\n",
       "    <tr>\n",
       "      <th>2</th>\n",
       "      <td>Number of outliers in not making a service pay...</td>\n",
       "      <td>0</td>\n",
       "    </tr>\n",
       "    <tr>\n",
       "      <th>3</th>\n",
       "      <td>Percentage of making a service payment call ou...</td>\n",
       "      <td>NaN</td>\n",
       "    </tr>\n",
       "  </tbody>\n",
       "</table>\n",
       "</div>"
      ],
      "text/plain": [
       "                                                Info Value\n",
       "0                          Total Number of outliers      0\n",
       "1  Number of outliers in making a service payment...     0\n",
       "2  Number of outliers in not making a service pay...     0\n",
       "3  Percentage of making a service payment call ou...   NaN"
      ]
     },
     "execution_count": 47,
     "metadata": {},
     "output_type": "execute_result"
    }
   ],
   "source": [
    "outer_fences_outliers1, outer_fences_info1 = detectOutliers(df,\"Age\",5.0)\n",
    "outer_fences_info1"
   ]
  },
  {
   "cell_type": "code",
   "execution_count": 48,
   "metadata": {},
   "outputs": [
    {
     "data": {
      "text/html": [
       "<div>\n",
       "<style scoped>\n",
       "    .dataframe tbody tr th:only-of-type {\n",
       "        vertical-align: middle;\n",
       "    }\n",
       "\n",
       "    .dataframe tbody tr th {\n",
       "        vertical-align: top;\n",
       "    }\n",
       "\n",
       "    .dataframe thead th {\n",
       "        text-align: right;\n",
       "    }\n",
       "</style>\n",
       "<table border=\"1\" class=\"dataframe\">\n",
       "  <thead>\n",
       "    <tr style=\"text-align: right;\">\n",
       "      <th></th>\n",
       "      <th>Info</th>\n",
       "      <th>Value</th>\n",
       "    </tr>\n",
       "  </thead>\n",
       "  <tbody>\n",
       "    <tr>\n",
       "      <th>0</th>\n",
       "      <td>Total Number of outliers</td>\n",
       "      <td>13125</td>\n",
       "    </tr>\n",
       "    <tr>\n",
       "      <th>1</th>\n",
       "      <td>Number of outliers in making a service payment...</td>\n",
       "      <td>144</td>\n",
       "    </tr>\n",
       "    <tr>\n",
       "      <th>2</th>\n",
       "      <td>Number of outliers in not making a service pay...</td>\n",
       "      <td>12981</td>\n",
       "    </tr>\n",
       "    <tr>\n",
       "      <th>3</th>\n",
       "      <td>Percentage of making a service payment call ou...</td>\n",
       "      <td>1.1</td>\n",
       "    </tr>\n",
       "  </tbody>\n",
       "</table>\n",
       "</div>"
      ],
      "text/plain": [
       "                                                Info  Value\n",
       "0                          Total Number of outliers   13125\n",
       "1  Number of outliers in making a service payment...    144\n",
       "2  Number of outliers in not making a service pay...  12981\n",
       "3  Percentage of making a service payment call ou...    1.1"
      ]
     },
     "execution_count": 48,
     "metadata": {},
     "output_type": "execute_result"
    }
   ],
   "source": [
    "inner_fences_outliers_login,inner_fences_info_login = detectOutliers(df,\"LOGINS\",1.5)\n",
    "inner_fences_info_login"
   ]
  },
  {
   "cell_type": "code",
   "execution_count": 49,
   "metadata": {},
   "outputs": [
    {
     "data": {
      "text/html": [
       "<div>\n",
       "<style scoped>\n",
       "    .dataframe tbody tr th:only-of-type {\n",
       "        vertical-align: middle;\n",
       "    }\n",
       "\n",
       "    .dataframe tbody tr th {\n",
       "        vertical-align: top;\n",
       "    }\n",
       "\n",
       "    .dataframe thead th {\n",
       "        text-align: right;\n",
       "    }\n",
       "</style>\n",
       "<table border=\"1\" class=\"dataframe\">\n",
       "  <thead>\n",
       "    <tr style=\"text-align: right;\">\n",
       "      <th></th>\n",
       "      <th>Info</th>\n",
       "      <th>Value</th>\n",
       "    </tr>\n",
       "  </thead>\n",
       "  <tbody>\n",
       "    <tr>\n",
       "      <th>0</th>\n",
       "      <td>Total Number of outliers</td>\n",
       "      <td>2086</td>\n",
       "    </tr>\n",
       "    <tr>\n",
       "      <th>1</th>\n",
       "      <td>Number of outliers in making a service payment...</td>\n",
       "      <td>22</td>\n",
       "    </tr>\n",
       "    <tr>\n",
       "      <th>2</th>\n",
       "      <td>Number of outliers in not making a service pay...</td>\n",
       "      <td>2064</td>\n",
       "    </tr>\n",
       "    <tr>\n",
       "      <th>3</th>\n",
       "      <td>Percentage of making a service payment call ou...</td>\n",
       "      <td>1.05</td>\n",
       "    </tr>\n",
       "  </tbody>\n",
       "</table>\n",
       "</div>"
      ],
      "text/plain": [
       "                                                Info Value\n",
       "0                          Total Number of outliers   2086\n",
       "1  Number of outliers in making a service payment...    22\n",
       "2  Number of outliers in not making a service pay...  2064\n",
       "3  Percentage of making a service payment call ou...  1.05"
      ]
     },
     "execution_count": 49,
     "metadata": {},
     "output_type": "execute_result"
    }
   ],
   "source": [
    "outer_fences_outliers_login, outer_fences_info_login = detectOutliers(df,\"LOGINS\",5.0)\n",
    "outer_fences_info_login"
   ]
  },
  {
   "cell_type": "code",
   "execution_count": 50,
   "metadata": {},
   "outputs": [
    {
     "data": {
      "text/html": [
       "<div>\n",
       "<style scoped>\n",
       "    .dataframe tbody tr th:only-of-type {\n",
       "        vertical-align: middle;\n",
       "    }\n",
       "\n",
       "    .dataframe tbody tr th {\n",
       "        vertical-align: top;\n",
       "    }\n",
       "\n",
       "    .dataframe thead th {\n",
       "        text-align: right;\n",
       "    }\n",
       "</style>\n",
       "<table border=\"1\" class=\"dataframe\">\n",
       "  <thead>\n",
       "    <tr style=\"text-align: right;\">\n",
       "      <th></th>\n",
       "      <th>Info</th>\n",
       "      <th>Value</th>\n",
       "    </tr>\n",
       "  </thead>\n",
       "  <tbody>\n",
       "    <tr>\n",
       "      <th>0</th>\n",
       "      <td>Total Number of outliers</td>\n",
       "      <td>15589</td>\n",
       "    </tr>\n",
       "    <tr>\n",
       "      <th>1</th>\n",
       "      <td>Number of outliers in making a service payment...</td>\n",
       "      <td>2140</td>\n",
       "    </tr>\n",
       "    <tr>\n",
       "      <th>2</th>\n",
       "      <td>Number of outliers in not making a service pay...</td>\n",
       "      <td>13449</td>\n",
       "    </tr>\n",
       "    <tr>\n",
       "      <th>3</th>\n",
       "      <td>Percentage of making a service payment call ou...</td>\n",
       "      <td>13.73</td>\n",
       "    </tr>\n",
       "  </tbody>\n",
       "</table>\n",
       "</div>"
      ],
      "text/plain": [
       "                                                Info  Value\n",
       "0                          Total Number of outliers   15589\n",
       "1  Number of outliers in making a service payment...   2140\n",
       "2  Number of outliers in not making a service pay...  13449\n",
       "3  Percentage of making a service payment call ou...  13.73"
      ]
     },
     "execution_count": 50,
     "metadata": {},
     "output_type": "execute_result"
    }
   ],
   "source": [
    "outer_fences_outliers_channel4, outer_fences_info_channel4 = detectOutliers(df,\"CHANNEL4_3M\",5.0)\n",
    "outer_fences_info_channel4"
   ]
  },
  {
   "cell_type": "code",
   "execution_count": 51,
   "metadata": {},
   "outputs": [
    {
     "data": {
      "text/html": [
       "<div>\n",
       "<style scoped>\n",
       "    .dataframe tbody tr th:only-of-type {\n",
       "        vertical-align: middle;\n",
       "    }\n",
       "\n",
       "    .dataframe tbody tr th {\n",
       "        vertical-align: top;\n",
       "    }\n",
       "\n",
       "    .dataframe thead th {\n",
       "        text-align: right;\n",
       "    }\n",
       "</style>\n",
       "<table border=\"1\" class=\"dataframe\">\n",
       "  <thead>\n",
       "    <tr style=\"text-align: right;\">\n",
       "      <th></th>\n",
       "      <th>Info</th>\n",
       "      <th>Value</th>\n",
       "    </tr>\n",
       "  </thead>\n",
       "  <tbody>\n",
       "    <tr>\n",
       "      <th>0</th>\n",
       "      <td>Total Number of outliers</td>\n",
       "      <td>15589</td>\n",
       "    </tr>\n",
       "    <tr>\n",
       "      <th>1</th>\n",
       "      <td>Number of outliers in making a service payment...</td>\n",
       "      <td>2140</td>\n",
       "    </tr>\n",
       "    <tr>\n",
       "      <th>2</th>\n",
       "      <td>Number of outliers in not making a service pay...</td>\n",
       "      <td>13449</td>\n",
       "    </tr>\n",
       "    <tr>\n",
       "      <th>3</th>\n",
       "      <td>Percentage of making a service payment call ou...</td>\n",
       "      <td>13.73</td>\n",
       "    </tr>\n",
       "  </tbody>\n",
       "</table>\n",
       "</div>"
      ],
      "text/plain": [
       "                                                Info  Value\n",
       "0                          Total Number of outliers   15589\n",
       "1  Number of outliers in making a service payment...   2140\n",
       "2  Number of outliers in not making a service pay...  13449\n",
       "3  Percentage of making a service payment call ou...  13.73"
      ]
     },
     "execution_count": 51,
     "metadata": {},
     "output_type": "execute_result"
    }
   ],
   "source": [
    "inner_fences_outliers_channel4, inner_fences_info_channel4 = detectOutliers(df,\"CHANNEL4_3M\",1.5)\n",
    "inner_fences_info_channel4"
   ]
  },
  {
   "cell_type": "code",
   "execution_count": 52,
   "metadata": {},
   "outputs": [],
   "source": [
    "df = df.drop(inner_fences_outliers_login.index)\n",
    "df.reset_index(inplace=True, drop=True)"
   ]
  },
  {
   "cell_type": "markdown",
   "metadata": {},
   "source": [
    "##### After removing outliers from the Tenure variable"
   ]
  },
  {
   "cell_type": "code",
   "execution_count": 53,
   "metadata": {},
   "outputs": [
    {
     "name": "stdout",
     "output_type": "stream",
     "text": [
      "Making a service call 96.02 % of the dataset\n",
      "Not Making a service call 3.98 % of the dataset\n"
     ]
    }
   ],
   "source": [
    "print('Making a service call', round(df['Call_Flag'].value_counts()[0]/len(df)*100,2),'% of the dataset')\n",
    "print('Not Making a service call',round(df['Call_Flag'].value_counts()[1]/len(df)*100,2),'% of the dataset')"
   ]
  },
  {
   "cell_type": "code",
   "execution_count": 54,
   "metadata": {},
   "outputs": [
    {
     "data": {
      "text/html": [
       "<div>\n",
       "<style scoped>\n",
       "    .dataframe tbody tr th:only-of-type {\n",
       "        vertical-align: middle;\n",
       "    }\n",
       "\n",
       "    .dataframe tbody tr th {\n",
       "        vertical-align: top;\n",
       "    }\n",
       "\n",
       "    .dataframe thead th {\n",
       "        text-align: right;\n",
       "    }\n",
       "</style>\n",
       "<table border=\"1\" class=\"dataframe\">\n",
       "  <thead>\n",
       "    <tr style=\"text-align: right;\">\n",
       "      <th></th>\n",
       "      <th>Tenure</th>\n",
       "      <th>Age</th>\n",
       "      <th>MART_STATUS</th>\n",
       "      <th>GENDER</th>\n",
       "      <th>RECENT_PAYMENT</th>\n",
       "      <th>CHANNEL1_3M</th>\n",
       "      <th>CHANNEL2_3M</th>\n",
       "      <th>CHANNEL3_3M</th>\n",
       "      <th>CHANNEL4_3M</th>\n",
       "      <th>CHANNEL5_3M</th>\n",
       "      <th>METHOD1_3M</th>\n",
       "      <th>PAYMENTS_3M</th>\n",
       "      <th>NOT_DI_3M</th>\n",
       "      <th>NOT_DI_6M</th>\n",
       "      <th>EVENT2_90_SUM</th>\n",
       "      <th>LOGINS</th>\n",
       "      <th>POLICYPURCHASECHANNEL</th>\n",
       "      <th>Call_Flag</th>\n",
       "      <th>Rated_Encoded</th>\n",
       "      <th>Cust_segm_Encoded</th>\n",
       "    </tr>\n",
       "  </thead>\n",
       "  <tbody>\n",
       "    <tr>\n",
       "      <th>0</th>\n",
       "      <td>16.175222</td>\n",
       "      <td>78.403833</td>\n",
       "      <td>0</td>\n",
       "      <td>0</td>\n",
       "      <td>0.0</td>\n",
       "      <td>0</td>\n",
       "      <td>0</td>\n",
       "      <td>1</td>\n",
       "      <td>0</td>\n",
       "      <td>2</td>\n",
       "      <td>0</td>\n",
       "      <td>3</td>\n",
       "      <td>0</td>\n",
       "      <td>0</td>\n",
       "      <td>0</td>\n",
       "      <td>0</td>\n",
       "      <td>0</td>\n",
       "      <td>0</td>\n",
       "      <td>3</td>\n",
       "      <td>2</td>\n",
       "    </tr>\n",
       "    <tr>\n",
       "      <th>1</th>\n",
       "      <td>15.931554</td>\n",
       "      <td>70.989733</td>\n",
       "      <td>1</td>\n",
       "      <td>0</td>\n",
       "      <td>0.0</td>\n",
       "      <td>0</td>\n",
       "      <td>3</td>\n",
       "      <td>0</td>\n",
       "      <td>0</td>\n",
       "      <td>0</td>\n",
       "      <td>3</td>\n",
       "      <td>3</td>\n",
       "      <td>0</td>\n",
       "      <td>0</td>\n",
       "      <td>0</td>\n",
       "      <td>0</td>\n",
       "      <td>0</td>\n",
       "      <td>0</td>\n",
       "      <td>3</td>\n",
       "      <td>2</td>\n",
       "    </tr>\n",
       "    <tr>\n",
       "      <th>2</th>\n",
       "      <td>15.937029</td>\n",
       "      <td>87.578371</td>\n",
       "      <td>2</td>\n",
       "      <td>1</td>\n",
       "      <td>0.0</td>\n",
       "      <td>0</td>\n",
       "      <td>0</td>\n",
       "      <td>6</td>\n",
       "      <td>0</td>\n",
       "      <td>0</td>\n",
       "      <td>0</td>\n",
       "      <td>6</td>\n",
       "      <td>0</td>\n",
       "      <td>0</td>\n",
       "      <td>0</td>\n",
       "      <td>0</td>\n",
       "      <td>0</td>\n",
       "      <td>0</td>\n",
       "      <td>3</td>\n",
       "      <td>2</td>\n",
       "    </tr>\n",
       "    <tr>\n",
       "      <th>3</th>\n",
       "      <td>15.934292</td>\n",
       "      <td>68.438056</td>\n",
       "      <td>2</td>\n",
       "      <td>1</td>\n",
       "      <td>0.0</td>\n",
       "      <td>0</td>\n",
       "      <td>0</td>\n",
       "      <td>0</td>\n",
       "      <td>0</td>\n",
       "      <td>0</td>\n",
       "      <td>0</td>\n",
       "      <td>0</td>\n",
       "      <td>0</td>\n",
       "      <td>0</td>\n",
       "      <td>0</td>\n",
       "      <td>0</td>\n",
       "      <td>1</td>\n",
       "      <td>0</td>\n",
       "      <td>3</td>\n",
       "      <td>2</td>\n",
       "    </tr>\n",
       "    <tr>\n",
       "      <th>4</th>\n",
       "      <td>15.501711</td>\n",
       "      <td>80.514716</td>\n",
       "      <td>0</td>\n",
       "      <td>0</td>\n",
       "      <td>0.0</td>\n",
       "      <td>0</td>\n",
       "      <td>0</td>\n",
       "      <td>1</td>\n",
       "      <td>0</td>\n",
       "      <td>0</td>\n",
       "      <td>0</td>\n",
       "      <td>1</td>\n",
       "      <td>0</td>\n",
       "      <td>0</td>\n",
       "      <td>0</td>\n",
       "      <td>0</td>\n",
       "      <td>0</td>\n",
       "      <td>0</td>\n",
       "      <td>3</td>\n",
       "      <td>2</td>\n",
       "    </tr>\n",
       "  </tbody>\n",
       "</table>\n",
       "</div>"
      ],
      "text/plain": [
       "      Tenure        Age  MART_STATUS  GENDER  RECENT_PAYMENT  CHANNEL1_3M  \\\n",
       "0  16.175222  78.403833            0       0             0.0            0   \n",
       "1  15.931554  70.989733            1       0             0.0            0   \n",
       "2  15.937029  87.578371            2       1             0.0            0   \n",
       "3  15.934292  68.438056            2       1             0.0            0   \n",
       "4  15.501711  80.514716            0       0             0.0            0   \n",
       "\n",
       "   CHANNEL2_3M  CHANNEL3_3M  CHANNEL4_3M  CHANNEL5_3M  METHOD1_3M  \\\n",
       "0            0            1            0            2           0   \n",
       "1            3            0            0            0           3   \n",
       "2            0            6            0            0           0   \n",
       "3            0            0            0            0           0   \n",
       "4            0            1            0            0           0   \n",
       "\n",
       "   PAYMENTS_3M  NOT_DI_3M  NOT_DI_6M  EVENT2_90_SUM  LOGINS  \\\n",
       "0            3          0          0              0       0   \n",
       "1            3          0          0              0       0   \n",
       "2            6          0          0              0       0   \n",
       "3            0          0          0              0       0   \n",
       "4            1          0          0              0       0   \n",
       "\n",
       "   POLICYPURCHASECHANNEL  Call_Flag  Rated_Encoded  Cust_segm_Encoded  \n",
       "0                      0          0              3                  2  \n",
       "1                      0          0              3                  2  \n",
       "2                      0          0              3                  2  \n",
       "3                      1          0              3                  2  \n",
       "4                      0          0              3                  2  "
      ]
     },
     "execution_count": 54,
     "metadata": {},
     "output_type": "execute_result"
    }
   ],
   "source": [
    "df.head()"
   ]
  },
  {
   "cell_type": "code",
   "execution_count": null,
   "metadata": {},
   "outputs": [],
   "source": []
  },
  {
   "cell_type": "markdown",
   "metadata": {},
   "source": [
    "## Model Development"
   ]
  },
  {
   "cell_type": "markdown",
   "metadata": {},
   "source": [
    "<p>We are first dealing with the imbalanced dataset before the model development as most machine learning algorithms work best when the number of samples in each class are about balanced because most algorithms are designed to maximize accuracy and reduce error.  Imbalanced classes are a common problem in  classification where there are a disproportionate ratio of events in each class.</p> \n",
    "\n",
    "Possible methods to deal with imbalanced datasets:\n",
    "\n",
    "- Oversample minority class \n",
    "- Undersample majority class \n",
    "- Generate synthetic samples: SMOTE\n",
    "\n",
    "We saw that the propotion of policy holders who did not make service payment call (Call_Flag=1) is 3.7%, our dataset is highly imbalanced. Hence in order to balance it, we will use all the methods so that we can have a ratio 1 (Call_Flag=1) to 1 (Call Flag=0).\n",
    "\n",
    "Oversample minority class gave a better result, hence, we employed it to balance the dataset.\n",
    "\n",
    "\n",
    "We will set the test size to 0.2; i.e., 80% of the data will be assigned to the training set, and the remaining 20% will be used as a test set. In order to obtain consistent results, we will set the random state parameter to a value of 42."
   ]
  },
  {
   "cell_type": "markdown",
   "metadata": {},
   "source": [
    "#### Training and Test split"
   ]
  },
  {
   "cell_type": "code",
   "execution_count": 55,
   "metadata": {},
   "outputs": [
    {
     "data": {
      "text/plain": [
       "(((89975, 19), (22494, 19)), ((89975,), (22494,)))"
      ]
     },
     "execution_count": 55,
     "metadata": {},
     "output_type": "execute_result"
    }
   ],
   "source": [
    "y = df['Call_Flag'].astype('int')\n",
    "X = df.drop('Call_Flag', axis=1)\n",
    "\n",
    "# let's split our data in to train(80%) and test (20%)\n",
    "X_train, X_test, y_train, y_test = train_test_split(X, y, test_size=0.2, random_state=42, stratify=y)\n",
    "\n",
    "(X_train.shape, X_test.shape) , (y_train.shape, y_test.shape)"
   ]
  },
  {
   "cell_type": "code",
   "execution_count": 56,
   "metadata": {},
   "outputs": [
    {
     "data": {
      "text/plain": [
       "(89975, 20)"
      ]
     },
     "execution_count": 56,
     "metadata": {},
     "output_type": "execute_result"
    }
   ],
   "source": [
    "train_df = pd.concat([X_train, y_train], axis=1 )\n",
    "\n",
    "train_df.shape"
   ]
  },
  {
   "cell_type": "markdown",
   "metadata": {},
   "source": [
    "##### Undersample majority class\n",
    "\n",
    "Undersampling can be defined as removing some observations of the majority class. Undersampling can be a good choice when you have a ton of data -think millions of rows. But a drawback is that we are removing information that may be valuable. This could lead to underfitting and poor generalization to the test set."
   ]
  },
  {
   "cell_type": "code",
   "execution_count": 57,
   "metadata": {},
   "outputs": [
    {
     "data": {
      "text/plain": [
       "1    3585\n",
       "0    3585\n",
       "Name: Call_Flag, dtype: int64"
      ]
     },
     "execution_count": 57,
     "metadata": {},
     "output_type": "execute_result"
    }
   ],
   "source": [
    "train_df.Call_Flag.value_counts()\n",
    "# Number of samples which are Call_Flag=0\n",
    "len_no_call = len(train_df[train_df.Call_Flag == 1])\n",
    "\n",
    "# Indices of Call_Flag=0\n",
    "no_call_indices = train_df[train_df.Call_Flag == 0].index\n",
    "\n",
    "# Random sample Call_Flag=0 without replacement by making the replace option equal to False\n",
    "random_indices = np.random.choice(no_call_indices, len_no_call, replace = False)\n",
    "\n",
    "# Indices of Call_Flag=1\n",
    "call_indices = train_df[train_df.Call_Flag == 1].index\n",
    "\n",
    "# Concatenate  indices of Call_Flag=0 and Call_Flag=1\n",
    "under_sample_indices = np.concatenate([random_indices, call_indices])\n",
    "\n",
    "# get Balance Dataframe\n",
    "tr_df_balanced = train_df.loc[under_sample_indices]       \n",
    "\n",
    "# Check new class counts\n",
    "tr_df_balanced.Call_Flag.value_counts()"
   ]
  },
  {
   "cell_type": "markdown",
   "metadata": {},
   "source": [
    "### Oversample minority class\n",
    "\n",
    "Oversampling can be defined as adding more copies of the minority class. Oversampling can be a good choice when you don’t have a ton of data to work with. We will use the resampling module from Scikit-Learn to randomly replicate samples from the minority class.\n",
    "\n",
    "Note that always split into test and train sets beforetrying oversampling techniques! Oversampling before splitting the data can allow the exact same observations to be present in both the test and train sets. This can allow our model to simply memorize specific data points and cause overfitting and poor generalization to the test data."
   ]
  },
  {
   "cell_type": "code",
   "execution_count": 58,
   "metadata": {},
   "outputs": [
    {
     "data": {
      "text/plain": [
       "1    86409\n",
       "0    86409\n",
       "Name: Call_Flag, dtype: int64"
      ]
     },
     "execution_count": 58,
     "metadata": {},
     "output_type": "execute_result"
    }
   ],
   "source": [
    "\n",
    "from sklearn.utils import resample\n",
    "\n",
    "# Separate input features and target\n",
    "y = df.Call_Flag\n",
    "X = df.drop('Call_Flag', axis=1)\n",
    "\n",
    "# setting up testing and training sets\n",
    "X_train, X_test, y_train, y_test = train_test_split(X, y, test_size=0.2, random_state=42)\n",
    "\n",
    "# concatenate our training data back together\n",
    "X = pd.concat([X_train, y_train], axis=1)\n",
    "\n",
    "# separate minority and majority classes\n",
    "not_service_call = X[X.Call_Flag==0]\n",
    "service_call = X[X.Call_Flag==1]\n",
    "\n",
    "# upsample minority\n",
    "service_call_upsampled = resample(service_call,\n",
    "                           replace=True, # sample with replacement\n",
    "                           n_samples=len(not_service_call), # match number in majority class\n",
    "                           random_state=27) # reproducible results\n",
    "\n",
    "# combine majority and upsampled minority\n",
    "upsampled = pd.concat([not_service_call, service_call_upsampled])\n",
    "\n",
    "# check new class counts\n",
    "upsampled.Call_Flag.value_counts()"
   ]
  },
  {
   "cell_type": "code",
   "execution_count": 59,
   "metadata": {},
   "outputs": [],
   "source": [
    "y_train_balanced=upsampled.Call_Flag \n",
    "X_tr_balanced=upsampled.drop('Call_Flag', axis=1)"
   ]
  },
  {
   "cell_type": "code",
   "execution_count": 60,
   "metadata": {},
   "outputs": [],
   "source": [
    "#y_train_balanced=tr_df_balanced.Call_Flag \n",
    "#X_tr_balanced=tr_df_balanced.drop('Call_Flag', axis=1)"
   ]
  },
  {
   "cell_type": "code",
   "execution_count": 61,
   "metadata": {},
   "outputs": [
    {
     "data": {
      "text/plain": [
       "Call_Flag                1.000000\n",
       "CHANNEL4_3M              0.372168\n",
       "METHOD1_3M               0.102821\n",
       "NOT_DI_3M                0.095142\n",
       "NOT_DI_6M                0.079543\n",
       "CHANNEL1_3M              0.057569\n",
       "Age                      0.034947\n",
       "GENDER                   0.033849\n",
       "CHANNEL2_3M              0.027895\n",
       "Rated_Encoded            0.021871\n",
       "EVENT2_90_SUM            0.009578\n",
       "MART_STATUS             -0.007316\n",
       "Cust_segm_Encoded       -0.086494\n",
       "RECENT_PAYMENT          -0.092707\n",
       "Tenure                  -0.105126\n",
       "POLICYPURCHASECHANNEL   -0.109676\n",
       "PAYMENTS_3M             -0.132810\n",
       "CHANNEL5_3M             -0.204263\n",
       "CHANNEL3_3M             -0.207633\n",
       "LOGINS                  -0.281651\n",
       "Name: Call_Flag, dtype: float64"
      ]
     },
     "execution_count": 61,
     "metadata": {},
     "output_type": "execute_result"
    }
   ],
   "source": [
    "# Correlation of features with the target variable. \n",
    "k = 27 \n",
    "cols = tr_df_balanced.corr().nlargest(k, 'Call_Flag')['Call_Flag']\n",
    "cols\n",
    "\n",
    "# Since we have few number of features, I decided not to filter out any feature at this stage.\n"
   ]
  },
  {
   "cell_type": "code",
   "execution_count": 66,
   "metadata": {},
   "outputs": [
    {
     "data": {
      "text/plain": [
       "((172818, 19), (172818,), (22494, 19), (22494,))"
      ]
     },
     "execution_count": 66,
     "metadata": {},
     "output_type": "execute_result"
    }
   ],
   "source": [
    "X_train = X_tr_balanced# final_df  # make a copy of the dataset named X_train\n",
    "X_test = X_test#[X_train.columns]\n",
    "\n",
    "y_train = y_train_balanced\n",
    "y_test=y_test\n",
    "X_train.shape, y_train.shape, X_test.shape, y_test.shape"
   ]
  },
  {
   "cell_type": "markdown",
   "metadata": {},
   "source": [
    "### Synthetic Minority Oversampling Technique (SMOTE)\n",
    "This technique is followed to avoid overfitting which occurs when exact replicas of minority instances are added to the main dataset. A subset of data is taken from the minority class as an example and then new synthetic similar instances are created. These synthetic instances are then added to the original dataset. The new dataset is used as a sample to train the classification models.\n",
    "\n",
    "When faced with imbalanced data sets there is no one stop solution to improve the accuracy of the prediction model.  One may need to try out multiple methods to figure out the best-suited sampling techniques for the dataset. In most cases, synthetic techniques like SMOTE and MSMOTE will outperform the conventional oversampling and undersampling methods.\n",
    "\n",
    "For better results, one can use synthetic sampling methods like SMOTE and MSMOTE along with advanced boosting methods like Gradient boosting and XG Boost.\n",
    "\n",
    "One of the advanced bagging techniques commonly used to counter the imbalanced dataset problem is SMOTE bagging. It follows an entirely different approach from conventional bagging to create each Bag/Bootstrap. It generates the positive instances by the SMOTE Algorithm by setting a SMOTE resampling rate in each iteration. The set of negative instances is bootstrapped in each iteration."
   ]
  },
  {
   "cell_type": "code",
   "execution_count": null,
   "metadata": {},
   "outputs": [],
   "source": [
    "#from imblearn.over_sampling import SMOTE\n",
    "#sm = SMOTE(random_state=42)\n",
    "#X_train, y_train = sm.fit_resample(X_train, y_train)"
   ]
  },
  {
   "cell_type": "code",
   "execution_count": null,
   "metadata": {},
   "outputs": [],
   "source": []
  },
  {
   "cell_type": "markdown",
   "metadata": {},
   "source": [
    "## Modeling and  Evaluation"
   ]
  },
  {
   "cell_type": "markdown",
   "metadata": {},
   "source": [
    "### Logistic Regression"
   ]
  },
  {
   "cell_type": "code",
   "execution_count": 67,
   "metadata": {},
   "outputs": [
    {
     "name": "stdout",
     "output_type": "stream",
     "text": [
      "roc_auc_score: 0.7517983102880078\n",
      "accuracy_score: 0.7265937583355562\n",
      "confusion_matrix \n",
      ": [[15631  5948]\n",
      " [  202   713]]\n",
      "              precision    recall  f1-score   support\n",
      "\n",
      "           0       0.99      0.72      0.84     21579\n",
      "           1       0.11      0.78      0.19       915\n",
      "\n",
      "    accuracy                           0.73     22494\n",
      "   macro avg       0.55      0.75      0.51     22494\n",
      "weighted avg       0.95      0.73      0.81     22494\n",
      "\n",
      "Log Loss for the logistic regression : 0.500430798170992\n"
     ]
    },
    {
     "data": {
      "image/png": "[encoded data removed]",
      "text/plain": [
       "<Figure size 432x288 with 1 Axes>"
      ]
     },
     "metadata": {},
     "output_type": "display_data"
    }
   ],
   "source": [
    "# Instantiate model and fit with the training data\n",
    "log_reg=LogisticRegression(random_state=29, solver='liblinear').fit(X_train, y_train)\n",
    "# predict the fitted data\n",
    "y_pred_logistic = log_reg.predict(X_test)\n",
    "\n",
    "# calculate and print the roc_auc_score, accuracy score and classification_report\n",
    "print('roc_auc_score:', roc_auc_score(y_test, y_pred_logistic))                \n",
    "print('accuracy_score:', accuracy_score(y_test, y_pred_logistic))              \n",
    "print('confusion_matrix \\n:', confusion_matrix(y_test, y_pred_logistic))\n",
    "print(classification_report(y_test, y_pred_logistic))\n",
    "\n",
    "# Calculate the Logloss for the logistic regression\n",
    "proba = log_reg.predict_proba(X_test)\n",
    "log_reg_logloss = log_loss(y_test, proba)\n",
    "print('Log Loss for the logistic regression :', log_reg_logloss)                           \n",
    "\n",
    "# draw the ROC_AUC curve\n",
    "log_reg_roc = roc_auc_score(y_test, y_pred_logistic)\n",
    "fpr_lr, tpr_lr, thresholds_lr = roc_curve(y_test, log_reg.predict_proba(X_test)[:,1])\n",
    "plt.figure()\n",
    "plt.plot(fpr_lr, tpr_lr,label='Logistic Regression (area = %0.2f)' % log_reg_roc)\n",
    "plt.plot([0, 1], [0, 1],'r--')\n",
    "plt.xlim([0.0, 1.0])\n",
    "plt.ylim([0.0, 1.05])\n",
    "plt.xlabel('False Positive Rate')\n",
    "plt.ylabel('True Positive Rate')\n",
    "plt.title('Receiver operating characteristic')\n",
    "plt.legend(loc=\"lower right\")\n",
    "plt.savefig('Log_ROC_curve')\n",
    "plt.show()"
   ]
  },
  {
   "cell_type": "code",
   "execution_count": 68,
   "metadata": {},
   "outputs": [
    {
     "name": "stdout",
     "output_type": "stream",
     "text": [
      "Logistic Regression Train Score:  0.76\n",
      "Logistic Regression Test Score:  0.73\n"
     ]
    }
   ],
   "source": [
    "log_reg_score = round(log_reg.score(X_train, y_train), 2)\n",
    "log_reg_score_test = round(log_reg.score(X_test, y_test), 2)\n",
    "print('Logistic Regression Train Score: ', log_reg_score)\n",
    "print('Logistic Regression Test Score: ', log_reg_score_test)"
   ]
  },
  {
   "cell_type": "markdown",
   "metadata": {},
   "source": [
    "## XGBoost"
   ]
  },
  {
   "cell_type": "markdown",
   "metadata": {},
   "source": [
    "After performing a <code>GridSearch</code> of parameters = {\"eta\": [0.01, 0.05, 0.10, 0.15] , \"max_depth\": [ 3, 4, 5, 6], \"min_child_weight\" : [ 1, 3, 5 ], \"gamma\": [ 0.0, 0.1, 0.2 , 0.3], \"colsample_bytree\": [ 0.4, 0.5, 0.6, 0.7 ], 'verbosity': [0]}, I found the following combinations of parameters are the best estimators: learning_rate=0.15, max_depth=6, min_child_weight= 1,gamma=0.2,colsample_bytree=0.6 and verbosity=0."
   ]
  },
  {
   "cell_type": "code",
   "execution_count": 69,
   "metadata": {},
   "outputs": [
    {
     "name": "stdout",
     "output_type": "stream",
     "text": [
      "roc_auc_score: 0.7513866319638325\n",
      "accuracy_score: 0.7890548590735307\n",
      "confusion_matrix \n",
      ": [[17099  4480]\n",
      " [  265   650]]\n",
      "              precision    recall  f1-score   support\n",
      "\n",
      "           0       0.98      0.79      0.88     21579\n",
      "           1       0.13      0.71      0.22       915\n",
      "\n",
      "    accuracy                           0.79     22494\n",
      "   macro avg       0.56      0.75      0.55     22494\n",
      "weighted avg       0.95      0.79      0.85     22494\n",
      "\n",
      "Log Loss for the XGBoost classifier: 0.41798761415044317\n"
     ]
    },
    {
     "data": {
      "image/png": "[encoded data removed]",
      "text/plain": [
       "<Figure size 432x288 with 1 Axes>"
      ]
     },
     "metadata": {},
     "output_type": "display_data"
    }
   ],
   "source": [
    "# Instantiate model\n",
    "xgb = XGBClassifier(learning_rate=0.15,\n",
    "                            max_depth=6,\n",
    "                            min_child_weight= 1,\n",
    "                            gamma=0.2,\n",
    "                            colsample_bytree=0.6, \n",
    "                            verbosity=0,\n",
    "                            use_label_encoder=False\n",
    "                           )\n",
    "\n",
    "#  Fit to the training set\n",
    "xgb.fit(X_train, y_train)\n",
    "\n",
    "# predict the fitted data\n",
    "y_pred_xgb = xgb.predict(X_test)\n",
    "\n",
    "# Compute and print metrics \n",
    "print('roc_auc_score:', roc_auc_score(y_test, y_pred_xgb))    \n",
    "print('accuracy_score:', accuracy_score(y_test, y_pred_xgb))      \n",
    "print('confusion_matrix \\n:', confusion_matrix(y_test, y_pred_xgb))\n",
    "print(classification_report(y_test, y_pred_xgb))\n",
    "\n",
    "# Calculate the Log Loss for the Random Forest classifier\n",
    "xgb_prob = xgb.predict_proba(X_test)\n",
    "xgb_logloss = log_loss(y_test, xgb_prob)\n",
    "print('Log Loss for the XGBoost classifier:', xgb_logloss)    \n",
    "\n",
    "# draw the ROC_AUC curve\n",
    "xgb_roc = roc_auc_score(y_test, y_pred_xgb)\n",
    "fpr_xgb, tpr_xgb, thresholds_xgb = roc_curve(y_test, xgb.predict_proba(X_test)[:,1])\n",
    "plt.figure()\n",
    "plt.plot(fpr_xgb, tpr_xgb, label='XGBoost (area = %0.2f)' % xgb_roc)\n",
    "plt.plot([0, 1], [0, 1],'r--')\n",
    "plt.xlim([0.0, 1.0])\n",
    "plt.ylim([0.0, 1.05])\n",
    "plt.xlabel('False Positive Rate')\n",
    "plt.ylabel('True Positive Rate')\n",
    "plt.title('Receiver operating characteristic')\n",
    "plt.legend(loc=\"lower right\")\n",
    "plt.savefig('xgb_ROC_curve')\n",
    "plt.show()"
   ]
  },
  {
   "cell_type": "code",
   "execution_count": 70,
   "metadata": {},
   "outputs": [
    {
     "name": "stdout",
     "output_type": "stream",
     "text": [
      "XGBoost Train Score:  0.83\n",
      "XGBoost Test Score:  0.79\n"
     ]
    }
   ],
   "source": [
    "xgb_score = round(xgb.score(X_train, y_train), 2)\n",
    "xgb_score_test = round(xgb.score(X_test, y_test), 2)\n",
    "print('XGBoost Train Score: ', xgb_score)\n",
    "print('XGBoost Test Score: ', xgb_score_test)"
   ]
  },
  {
   "cell_type": "markdown",
   "metadata": {},
   "source": [
    "## Random Forest"
   ]
  },
  {
   "cell_type": "markdown",
   "metadata": {},
   "source": [
    "After performing a <code>GridSearch</code> of parameters = {'n_estimators': [50, 100, 150, 200, 250], 'max_depth': [12, 13, 14, 15, 16], 'max_features': ['auto', 'sqrt']}, I found the following combinations of parameters are the best estimators: n_estimator =250, max_depth=13, max_features= 'auto'."
   ]
  },
  {
   "cell_type": "code",
   "execution_count": 71,
   "metadata": {},
   "outputs": [
    {
     "name": "stdout",
     "output_type": "stream",
     "text": [
      "roc_auc_score: 0.7430854526904193\n",
      "accuracy_score: 0.8183071041166533\n",
      "confusion_matrix \n",
      ": [[17802  3777]\n",
      " [  310   605]]\n",
      "              precision    recall  f1-score   support\n",
      "\n",
      "           0       0.98      0.82      0.90     21579\n",
      "           1       0.14      0.66      0.23       915\n",
      "\n",
      "    accuracy                           0.82     22494\n",
      "   macro avg       0.56      0.74      0.56     22494\n",
      "weighted avg       0.95      0.82      0.87     22494\n",
      "\n",
      "Log Loss for the RandomForest classifier: 0.39002432598528564\n"
     ]
    },
    {
     "data": {
      "image/png": "[encoded data removed]",
      "text/plain": [
       "<Figure size 432x288 with 1 Axes>"
      ]
     },
     "metadata": {},
     "output_type": "display_data"
    }
   ],
   "source": [
    "rf = RandomForestClassifier(n_estimators=250,\n",
    "                            max_depth=13,\n",
    "                            max_features='auto',\n",
    "                            random_state=42)\n",
    "#model fit\n",
    "rf.fit(X_train, y_train)\n",
    "# predict the fitted data\n",
    "y_pred_rf = rf.predict(X_test)\n",
    "\n",
    "\n",
    "# Compute and print metrics \n",
    "print('roc_auc_score:', roc_auc_score(y_test, y_pred_rf))   \n",
    "print('accuracy_score:', accuracy_score(y_test, y_pred_rf))      \n",
    "print('confusion_matrix \\n:', confusion_matrix(y_test, y_pred_rf))\n",
    "print(classification_report(y_test, y_pred_rf))\n",
    "\n",
    "\n",
    "\n",
    "# Calculate the Log Loss for the Random Forest classifier\n",
    "rf_prob = rf.predict_proba(X_test)\n",
    "rf_logloss = log_loss(y_test, rf_prob)\n",
    "print('Log Loss for the RandomForest classifier:', rf_logloss)    \n",
    "\n",
    "\n",
    "# draw the ROC_AUC curve\n",
    "rf_roc = roc_auc_score(y_test, y_pred_rf)\n",
    "fpr_rf, tpr_rf, thresholds_rf = roc_curve(y_test, rf.predict_proba(X_test)[:,1])\n",
    "plt.figure()\n",
    "plt.plot(fpr_rf, tpr_rf, label='RandomForest (area = %0.2f)' % rf_roc)\n",
    "plt.plot([0, 1], [0, 1],'r--')\n",
    "plt.xlim([0.0, 1.0])\n",
    "plt.ylim([0.0, 1.05])\n",
    "plt.xlabel('False Positive Rate')\n",
    "plt.ylabel('True Positive Rate')\n",
    "plt.title('Receiver operating characteristic')\n",
    "plt.legend(loc=\"lower right\")\n",
    "plt.savefig('rf_ROC_curve')\n",
    "plt.show()"
   ]
  },
  {
   "cell_type": "code",
   "execution_count": 72,
   "metadata": {},
   "outputs": [
    {
     "name": "stdout",
     "output_type": "stream",
     "text": [
      "Random Forest Train Score:  0.86\n",
      "Random Forest Test Score:  0.82\n"
     ]
    }
   ],
   "source": [
    "rf_score = round(rf.score(X_train, y_train), 2)\n",
    "rf_score_test = round(rf.score(X_test, y_test), 2)\n",
    "print('Random Forest Train Score: ', rf_score)\n",
    "print('Random Forest Test Score: ', rf_score_test)"
   ]
  },
  {
   "cell_type": "markdown",
   "metadata": {},
   "source": [
    "## Gradiet Boosting"
   ]
  },
  {
   "cell_type": "markdown",
   "metadata": {},
   "source": [
    "After performing a <code>GridSearch</code> of parameters = {'n_estimators' : [100, 150, 200, 250], learning_rate' : [0.15, 0.1, 0.05, 0.01], 'max_depth':[2,3,4,5]}, I found the following combinations of parameters are the best estimators: n_estimator =250,learning_rate= 0.15 and max_depth=5."
   ]
  },
  {
   "cell_type": "code",
   "execution_count": 73,
   "metadata": {},
   "outputs": [
    {
     "name": "stdout",
     "output_type": "stream",
     "text": [
      "roc_auc_score: 0.7396890115541901\n",
      "accuracy_score: 0.8127945229839069\n",
      "confusion_matrix \n",
      ": [[17679  3900]\n",
      " [  311   604]]\n",
      "              precision    recall  f1-score   support\n",
      "\n",
      "           0       0.98      0.82      0.89     21579\n",
      "           1       0.13      0.66      0.22       915\n",
      "\n",
      "    accuracy                           0.81     22494\n",
      "   macro avg       0.56      0.74      0.56     22494\n",
      "weighted avg       0.95      0.81      0.87     22494\n",
      "\n",
      "Log Loss for the Gradient Boosting Classifier :  0.3878857211090711\n"
     ]
    },
    {
     "data": {
      "image/png": "[encoded data removed]",
      "text/plain": [
       "<Figure size 432x288 with 1 Axes>"
      ]
     },
     "metadata": {},
     "output_type": "display_data"
    }
   ],
   "source": [
    "gradb = GradientBoostingClassifier(n_estimators=250,\n",
    "                                   learning_rate=0.15,\n",
    "                                   max_depth=5,\n",
    "                                   random_state=42)\n",
    "#  Fit to the training set\n",
    "gradb.fit(X_train, y_train)\n",
    "# predict the fitted data\n",
    "y_pred_gradb = gradb.predict(X_test)\n",
    "\n",
    "# Compute and print metrics\n",
    "print('roc_auc_score:', roc_auc_score(y_test, y_pred_gradb)) \n",
    "print('accuracy_score:', accuracy_score(y_test, y_pred_gradb))       \n",
    "print('confusion_matrix \\n:', confusion_matrix(y_test, y_pred_gradb))\n",
    "print(classification_report(y_test, y_pred_gradb))\n",
    "\n",
    "# Calculate the Log Loss for the Gradient Boosting Classifier\n",
    "gradb_prob = gradb.predict_proba(X_test)\n",
    "gradb_logloss = log_loss(y_test, gradb_prob)\n",
    "print('Log Loss for the Gradient Boosting Classifier : ', gradb_logloss)        \n",
    "\n",
    "gradb_roc = roc_auc_score(y_test, y_pred_gradb)\n",
    "fpr_gb, tpr_gb, thresholds_gb = roc_curve(y_test, gradb.predict_proba(X_test)[:,1])\n",
    "plt.figure()\n",
    "plt.plot(fpr_gb, tpr_gb, 'g', label='GradientBoosting (area = %0.2f)' % gradb_roc)\n",
    "plt.plot([0, 1], [0, 1],'r--')\n",
    "plt.xlim([0.0, 1.0])\n",
    "plt.ylim([0.0, 1.05])\n",
    "plt.xlabel('False Positive Rate')\n",
    "plt.ylabel('True Positive Rate')\n",
    "plt.title('Receiver operating characteristic')\n",
    "plt.legend(loc=\"lower right\")\n",
    "plt.savefig('Gradient_boosting_ROC_curve')\n",
    "plt.show()"
   ]
  },
  {
   "cell_type": "code",
   "execution_count": 74,
   "metadata": {},
   "outputs": [
    {
     "name": "stdout",
     "output_type": "stream",
     "text": [
      "Gradient Boosting Train Score:  0.87\n",
      "Gradient Boosting Test Score:  0.81\n"
     ]
    }
   ],
   "source": [
    "gradb_score = round(gradb.score(X_train, y_train), 2)\n",
    "gradb_score_test = round(gradb.score(X_test, y_test), 2)\n",
    "print('Gradient Boosting Train Score: ', gradb_score)\n",
    "print('Gradient Boosting Test Score: ', gradb_score_test)"
   ]
  },
  {
   "cell_type": "markdown",
   "metadata": {},
   "source": [
    "## k-nearest neighbors algorithm (k-NN)\n",
    "\n",
    "\n",
    "I applied GreadSearch to find the best esimators from the parameters: parameters = {\n",
    "    'knn__n_neighbors':[5,6,7,8,9,10,11,12,13,14,15,16],\n",
    "    'knn__p':[1,2,3,4,5,6,7]\n",
    "}.\n",
    "\n",
    "I found the following combinations of parameters performs well:\n",
    "parameters = {\n",
    "    'knn__n_neigbors':10,\n",
    "    'knn_':1\n",
    "}"
   ]
  },
  {
   "cell_type": "code",
   "execution_count": 75,
   "metadata": {},
   "outputs": [
    {
     "name": "stdout",
     "output_type": "stream",
     "text": [
      "roc_auc_score: 0.6506061220722332\n",
      "accuracy_score: 0.8476927180581488\n",
      "confusion_matrix \n",
      ": [[18669  2910]\n",
      " [  516   399]]\n",
      "              precision    recall  f1-score   support\n",
      "\n",
      "           0       0.97      0.87      0.92     21579\n",
      "           1       0.12      0.44      0.19       915\n",
      "\n",
      "    accuracy                           0.85     22494\n",
      "   macro avg       0.55      0.65      0.55     22494\n",
      "weighted avg       0.94      0.85      0.89     22494\n",
      "\n",
      "Tuned Model Parameters: {'knn__n_neighbors': 10, 'knn__p': 1}\n",
      "Log Loss for the KNN : 1.9122594360063043\n"
     ]
    },
    {
     "data": {
      "image/png": "[encoded data removed]",
      "text/plain": [
       "<Figure size 432x288 with 1 Axes>"
      ]
     },
     "metadata": {},
     "output_type": "display_data"
    }
   ],
   "source": [
    "steps=[('scaler', MinMaxScaler()),\n",
    "      ('knn', KNeighborsClassifier())]\n",
    "\n",
    "pipeline=Pipeline(steps)\n",
    "\n",
    "# Specify the hyperparameter to be tunned\n",
    "\n",
    "parameters={'knn__n_neighbors' : [10],\n",
    "           'knn__p' : [1]}\n",
    "\n",
    "# Create the GridSearchCV object\n",
    "cv_knn = GridSearchCV(pipeline, param_grid=parameters, cv=5)\n",
    "\n",
    "#  Fit to the training set\n",
    "cv_knn.fit(X_train, y_train)\n",
    "\n",
    "# predict the fitted data\n",
    "y_pred_knn = cv_knn.predict(X_test)\n",
    "\n",
    "\n",
    "# Compute and print metrics \n",
    "print('roc_auc_score:', roc_auc_score(y_test, y_pred_knn))    \n",
    "print('accuracy_score:', accuracy_score(y_test, y_pred_knn))       \n",
    "print('confusion_matrix \\n:', confusion_matrix(y_test, y_pred_knn))\n",
    "print(classification_report(y_test, y_pred_knn))\n",
    "print(\"Tuned Model Parameters: {}\".format(cv_knn.best_params_))\n",
    "\n",
    "# Calculate the Log Loss for the KNN\n",
    "knn_prob = cv_knn.predict_proba(X_test)\n",
    "knn_logloss = log_loss(y_test, knn_prob)\n",
    "print('Log Loss for the KNN :', knn_logloss)                                 \n",
    "\n",
    "\n",
    "# draw the ROC_AUC curve\n",
    "knn_roc=roc_auc_score(y_test, y_pred_knn)\n",
    "fpr_knn, tpr_knn, thresholds_knn = roc_curve(y_test, cv_knn.predict_proba(X_test)[:,1])\n",
    "plt.figure()\n",
    "plt.plot(fpr_knn, tpr_knn, label='KNN (area = %0.2f)' % knn_roc)\n",
    "plt.plot([0, 1], [0, 1],'r--')\n",
    "plt.xlim([0.0, 1.0])\n",
    "plt.ylim([0.0, 1.05])\n",
    "plt.xlabel('False Positive Rate')\n",
    "plt.ylabel('True Positive Rate')\n",
    "plt.title('Receiver operating characteristic')\n",
    "plt.legend(loc=\"lower right\")\n",
    "plt.savefig('knn_ROC_curve')\n",
    "plt.show()"
   ]
  },
  {
   "cell_type": "code",
   "execution_count": 76,
   "metadata": {},
   "outputs": [
    {
     "name": "stdout",
     "output_type": "stream",
     "text": [
      "KNN Train Score:  0.94\n",
      "KNN Test Score:  0.85\n"
     ]
    }
   ],
   "source": [
    "cv_knn_score = round(cv_knn.score(X_train, y_train), 2)\n",
    "cv_knn_score_test = round(cv_knn.score(X_test, y_test), 2)\n",
    "print('KNN Train Score: ', cv_knn_score)\n",
    "print('KNN Test Score: ', cv_knn_score_test)"
   ]
  },
  {
   "cell_type": "markdown",
   "metadata": {},
   "source": [
    "### Model comparison"
   ]
  },
  {
   "cell_type": "markdown",
   "metadata": {},
   "source": [
    "Depending on the characteristics of the imbalanced data set, the most effective techniques will vary. Relevant evaluation parameters should be considered during the model comparison.\n",
    "\n",
    "While comparing multiple prediction models built through an exhaustive combination of the above-mentioned techniques Lift & Area under the ROC Curve will be instrumental in determining which model is superior to the others. Even though Logistic Regression, Random Forest and GradientBoosting classification algorithms performed well to  classify the data best, XGBoost is the best candidate. It is a successful model here and it can effectively assign each observation a probability ranging from 0 to 1.\n"
   ]
  },
  {
   "cell_type": "markdown",
   "metadata": {},
   "source": [
    "### Feature importance"
   ]
  },
  {
   "cell_type": "code",
   "execution_count": 80,
   "metadata": {
    "scrolled": true
   },
   "outputs": [
    {
     "data": {
      "image/png": "[encoded data removed]",
      "text/plain": [
       "<Figure size 432x288 with 1 Axes>"
      ]
     },
     "metadata": {},
     "output_type": "display_data"
    }
   ],
   "source": [
    "#Considering  Random forest for selecting features\n",
    "features = X_train.columns\n",
    "importances = xgb.feature_importances_\n",
    "indices = np.argsort(importances)\n",
    "\n",
    "plt.title('Feature Importances for Call_Flag (target) variable Prediction')\n",
    "plt.barh(range(len(indices)), importances[indices], color='b', align='center')\n",
    "plt.yticks(range(len(indices)), [features[i] for i in indices])\n",
    "plt.xlabel('Relative Importance')\n",
    "plt.show()"
   ]
  },
  {
   "cell_type": "markdown",
   "metadata": {},
   "source": [
    "<code>CHANNEL4_3M</code> and <code>LOGINS</code> are the strongest feature that predict service payment call; followed by variables  <code>PAYMENTS_3M</code> and <code>Tenure</code>."
   ]
  },
  {
   "cell_type": "markdown",
   "metadata": {},
   "source": [
    "### Saving Our Model\n",
    "To save our trained model, we may use the pickle library so that it can be used by the server."
   ]
  },
  {
   "cell_type": "code",
   "execution_count": 79,
   "metadata": {},
   "outputs": [],
   "source": [
    "pickle.dump(xgb, open('xgb_model_GIECO_Call_Flag.pkl', 'wb'))"
   ]
  },
  {
   "cell_type": "code",
   "execution_count": null,
   "metadata": {},
   "outputs": [],
   "source": []
  }
 ],
 "metadata": {
  "kernelspec": {
   "display_name": "Python 3 (ipykernel)",
   "language": "python",
   "name": "python3"
  },
  "language_info": {
   "codemirror_mode": {
    "name": "ipython",
    "version": 3
   },
   "file_extension": ".py",
   "mimetype": "text/x-python",
   "name": "python",
   "nbconvert_exporter": "python",
   "pygments_lexer": "ipython3",
   "version": "3.8.10"
  }
 },
 "nbformat": 4,
 "nbformat_minor": 4
}
